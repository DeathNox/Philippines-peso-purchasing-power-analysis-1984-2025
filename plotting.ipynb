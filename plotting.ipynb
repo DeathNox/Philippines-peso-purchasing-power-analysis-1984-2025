{
 "cells": [
  {
   "cell_type": "code",
   "execution_count": 3,
   "id": "9c3ab954",
   "metadata": {},
   "outputs": [],
   "source": [
    "import pandas as pd\n",
    "import seaborn as sns\n",
    "import matplotlib.pyplot as plt\n",
    "import matplotlib.dates as mdates\n",
    "import plotly.express as px\n",
    "import seaborn as sns\n",
    "\n",
    "%config InlineBackend.figure_format = 'retina'\n",
    "\n",
    "import warnings\n",
    "warnings.simplefilter(action='ignore', category=FutureWarning)\n",
    "\n"
   ]
  },
  {
   "cell_type": "code",
   "execution_count": 4,
   "id": "5e5f62af",
   "metadata": {},
   "outputs": [
    {
     "data": {
      "application/vnd.microsoft.datawrangler.viewer.v0+json": {
       "columns": [
        {
         "name": "Year",
         "rawType": "int64",
         "type": "integer"
        },
        {
         "name": "Jan",
         "rawType": "float64",
         "type": "float"
        },
        {
         "name": "Feb",
         "rawType": "float64",
         "type": "float"
        },
        {
         "name": "Mar",
         "rawType": "float64",
         "type": "float"
        },
        {
         "name": "Apr",
         "rawType": "float64",
         "type": "float"
        },
        {
         "name": "May",
         "rawType": "float64",
         "type": "float"
        },
        {
         "name": "Jun",
         "rawType": "float64",
         "type": "float"
        },
        {
         "name": "Jul",
         "rawType": "float64",
         "type": "float"
        },
        {
         "name": "Aug",
         "rawType": "float64",
         "type": "float"
        },
        {
         "name": "Sep",
         "rawType": "float64",
         "type": "float"
        },
        {
         "name": "Oct",
         "rawType": "float64",
         "type": "float"
        },
        {
         "name": "Nov",
         "rawType": "float64",
         "type": "float"
        },
        {
         "name": "Dec",
         "rawType": "float64",
         "type": "float"
        }
       ],
       "ref": "dadc16de-2956-48f7-8487-265fd411658c",
       "rows": [
        [
         "1994",
         "3.09",
         "3.05",
         "3.06",
         "3.05",
         "3.03",
         "3.02",
         "3.0",
         "2.98",
         "2.97",
         "2.97",
         "2.97",
         "2.96"
        ],
        [
         "1995",
         "2.91",
         "2.89",
         "2.88",
         "2.87",
         "2.86",
         "2.84",
         "2.82",
         "2.79",
         "2.75",
         "2.74",
         "2.74",
         "2.74"
        ],
        [
         "1996",
         "2.66",
         "2.64",
         "2.64",
         "2.63",
         "2.62",
         "2.6",
         "2.6",
         "2.58",
         "2.58",
         "2.57",
         "2.57",
         "2.55"
        ],
        [
         "1997",
         "2.52",
         "2.51",
         "2.5",
         "2.5",
         "2.49",
         "2.47",
         "2.46",
         "2.45",
         "2.44",
         "2.43",
         "2.41",
         "2.4"
        ],
        [
         "1998",
         "2.37",
         "2.33",
         "2.31",
         "2.3",
         "2.27",
         "2.24",
         "2.23",
         "2.22",
         "2.21",
         "2.21",
         "2.18",
         "2.18"
        ]
       ],
       "shape": {
        "columns": 12,
        "rows": 5
       }
      },
      "text/html": [
       "<div>\n",
       "<style scoped>\n",
       "    .dataframe tbody tr th:only-of-type {\n",
       "        vertical-align: middle;\n",
       "    }\n",
       "\n",
       "    .dataframe tbody tr th {\n",
       "        vertical-align: top;\n",
       "    }\n",
       "\n",
       "    .dataframe thead th {\n",
       "        text-align: right;\n",
       "    }\n",
       "</style>\n",
       "<table border=\"1\" class=\"dataframe\">\n",
       "  <thead>\n",
       "    <tr style=\"text-align: right;\">\n",
       "      <th></th>\n",
       "      <th>Jan</th>\n",
       "      <th>Feb</th>\n",
       "      <th>Mar</th>\n",
       "      <th>Apr</th>\n",
       "      <th>May</th>\n",
       "      <th>Jun</th>\n",
       "      <th>Jul</th>\n",
       "      <th>Aug</th>\n",
       "      <th>Sep</th>\n",
       "      <th>Oct</th>\n",
       "      <th>Nov</th>\n",
       "      <th>Dec</th>\n",
       "    </tr>\n",
       "    <tr>\n",
       "      <th>Year</th>\n",
       "      <th></th>\n",
       "      <th></th>\n",
       "      <th></th>\n",
       "      <th></th>\n",
       "      <th></th>\n",
       "      <th></th>\n",
       "      <th></th>\n",
       "      <th></th>\n",
       "      <th></th>\n",
       "      <th></th>\n",
       "      <th></th>\n",
       "      <th></th>\n",
       "    </tr>\n",
       "  </thead>\n",
       "  <tbody>\n",
       "    <tr>\n",
       "      <th>1994</th>\n",
       "      <td>3.09</td>\n",
       "      <td>3.05</td>\n",
       "      <td>3.06</td>\n",
       "      <td>3.05</td>\n",
       "      <td>3.03</td>\n",
       "      <td>3.02</td>\n",
       "      <td>3.00</td>\n",
       "      <td>2.98</td>\n",
       "      <td>2.97</td>\n",
       "      <td>2.97</td>\n",
       "      <td>2.97</td>\n",
       "      <td>2.96</td>\n",
       "    </tr>\n",
       "    <tr>\n",
       "      <th>1995</th>\n",
       "      <td>2.91</td>\n",
       "      <td>2.89</td>\n",
       "      <td>2.88</td>\n",
       "      <td>2.87</td>\n",
       "      <td>2.86</td>\n",
       "      <td>2.84</td>\n",
       "      <td>2.82</td>\n",
       "      <td>2.79</td>\n",
       "      <td>2.75</td>\n",
       "      <td>2.74</td>\n",
       "      <td>2.74</td>\n",
       "      <td>2.74</td>\n",
       "    </tr>\n",
       "    <tr>\n",
       "      <th>1996</th>\n",
       "      <td>2.66</td>\n",
       "      <td>2.64</td>\n",
       "      <td>2.64</td>\n",
       "      <td>2.63</td>\n",
       "      <td>2.62</td>\n",
       "      <td>2.60</td>\n",
       "      <td>2.60</td>\n",
       "      <td>2.58</td>\n",
       "      <td>2.58</td>\n",
       "      <td>2.57</td>\n",
       "      <td>2.57</td>\n",
       "      <td>2.55</td>\n",
       "    </tr>\n",
       "    <tr>\n",
       "      <th>1997</th>\n",
       "      <td>2.52</td>\n",
       "      <td>2.51</td>\n",
       "      <td>2.50</td>\n",
       "      <td>2.50</td>\n",
       "      <td>2.49</td>\n",
       "      <td>2.47</td>\n",
       "      <td>2.46</td>\n",
       "      <td>2.45</td>\n",
       "      <td>2.44</td>\n",
       "      <td>2.43</td>\n",
       "      <td>2.41</td>\n",
       "      <td>2.40</td>\n",
       "    </tr>\n",
       "    <tr>\n",
       "      <th>1998</th>\n",
       "      <td>2.37</td>\n",
       "      <td>2.33</td>\n",
       "      <td>2.31</td>\n",
       "      <td>2.30</td>\n",
       "      <td>2.27</td>\n",
       "      <td>2.24</td>\n",
       "      <td>2.23</td>\n",
       "      <td>2.22</td>\n",
       "      <td>2.21</td>\n",
       "      <td>2.21</td>\n",
       "      <td>2.18</td>\n",
       "      <td>2.18</td>\n",
       "    </tr>\n",
       "  </tbody>\n",
       "</table>\n",
       "</div>"
      ],
      "text/plain": [
       "       Jan   Feb   Mar   Apr   May   Jun   Jul   Aug   Sep   Oct   Nov   Dec\n",
       "Year                                                                        \n",
       "1994  3.09  3.05  3.06  3.05  3.03  3.02  3.00  2.98  2.97  2.97  2.97  2.96\n",
       "1995  2.91  2.89  2.88  2.87  2.86  2.84  2.82  2.79  2.75  2.74  2.74  2.74\n",
       "1996  2.66  2.64  2.64  2.63  2.62  2.60  2.60  2.58  2.58  2.57  2.57  2.55\n",
       "1997  2.52  2.51  2.50  2.50  2.49  2.47  2.46  2.45  2.44  2.43  2.41  2.40\n",
       "1998  2.37  2.33  2.31  2.30  2.27  2.24  2.23  2.22  2.21  2.21  2.18  2.18"
      ]
     },
     "execution_count": 4,
     "metadata": {},
     "output_type": "execute_result"
    }
   ],
   "source": [
    "path = r'table_18_cleaned.csv'\n",
    "df = pd.read_csv(path, index_col=0)\n",
    "df = df.fillna(df.mean())\n",
    "df = df.round(2)\n",
    "df.head()"
   ]
  },
  {
   "cell_type": "markdown",
   "id": "3f903972",
   "metadata": {},
   "source": [
    "The Inflation Tale: How Peso Purchasing Power Change Every Year"
   ]
  },
  {
   "cell_type": "code",
   "execution_count": 5,
   "id": "6371913d",
   "metadata": {},
   "outputs": [
    {
     "data": {
      "application/vnd.microsoft.datawrangler.viewer.v0+json": {
       "columns": [
        {
         "name": "index",
         "rawType": "int64",
         "type": "integer"
        },
        {
         "name": "Year",
         "rawType": "int64",
         "type": "integer"
        },
        {
         "name": "Month",
         "rawType": "object",
         "type": "string"
        },
        {
         "name": "Peso Purchasing Power",
         "rawType": "float64",
         "type": "float"
        }
       ],
       "ref": "6c09ab6a-1679-4923-a2e2-e934ba20dfe6",
       "rows": [
        [
         "105",
         "2003",
         "Apr",
         "1.81"
        ],
        [
         "291",
         "1997",
         "Oct",
         "2.43"
        ],
        [
         "130",
         "1996",
         "May",
         "2.62"
        ],
        [
         "132",
         "1998",
         "May",
         "2.27"
        ],
        [
         "339",
         "2013",
         "Nov",
         "1.13"
        ]
       ],
       "shape": {
        "columns": 3,
        "rows": 5
       }
      },
      "text/html": [
       "<div>\n",
       "<style scoped>\n",
       "    .dataframe tbody tr th:only-of-type {\n",
       "        vertical-align: middle;\n",
       "    }\n",
       "\n",
       "    .dataframe tbody tr th {\n",
       "        vertical-align: top;\n",
       "    }\n",
       "\n",
       "    .dataframe thead th {\n",
       "        text-align: right;\n",
       "    }\n",
       "</style>\n",
       "<table border=\"1\" class=\"dataframe\">\n",
       "  <thead>\n",
       "    <tr style=\"text-align: right;\">\n",
       "      <th></th>\n",
       "      <th>Year</th>\n",
       "      <th>Month</th>\n",
       "      <th>Peso Purchasing Power</th>\n",
       "    </tr>\n",
       "  </thead>\n",
       "  <tbody>\n",
       "    <tr>\n",
       "      <th>105</th>\n",
       "      <td>2003</td>\n",
       "      <td>Apr</td>\n",
       "      <td>1.81</td>\n",
       "    </tr>\n",
       "    <tr>\n",
       "      <th>291</th>\n",
       "      <td>1997</td>\n",
       "      <td>Oct</td>\n",
       "      <td>2.43</td>\n",
       "    </tr>\n",
       "    <tr>\n",
       "      <th>130</th>\n",
       "      <td>1996</td>\n",
       "      <td>May</td>\n",
       "      <td>2.62</td>\n",
       "    </tr>\n",
       "    <tr>\n",
       "      <th>132</th>\n",
       "      <td>1998</td>\n",
       "      <td>May</td>\n",
       "      <td>2.27</td>\n",
       "    </tr>\n",
       "    <tr>\n",
       "      <th>339</th>\n",
       "      <td>2013</td>\n",
       "      <td>Nov</td>\n",
       "      <td>1.13</td>\n",
       "    </tr>\n",
       "  </tbody>\n",
       "</table>\n",
       "</div>"
      ],
      "text/plain": [
       "     Year Month  Peso Purchasing Power\n",
       "105  2003   Apr                   1.81\n",
       "291  1997   Oct                   2.43\n",
       "130  1996   May                   2.62\n",
       "132  1998   May                   2.27\n",
       "339  2013   Nov                   1.13"
      ]
     },
     "execution_count": 5,
     "metadata": {},
     "output_type": "execute_result"
    }
   ],
   "source": [
    "melt_df = (df.reset_index().melt(id_vars=['Year'], var_name='Month', value_name='Peso Purchasing Power'))\n",
    "\n",
    "melt_df.sample(5)"
   ]
  },
  {
   "cell_type": "code",
   "execution_count": 6,
   "id": "cd363083",
   "metadata": {},
   "outputs": [
    {
     "name": "stdout",
     "output_type": "stream",
     "text": [
      "Note: you may need to restart the kernel to use updated packages.\n"
     ]
    },
    {
     "data": {
      "application/vnd.plotly.v1+json": {
       "config": {
        "plotlyServerURL": "https://plot.ly"
       },
       "data": [
        {
         "fillpattern": {
          "shape": ""
         },
         "hovertemplate": "Month=Jan<br>Year=%{x}<br>Peso Purchasing Power=%{y}<extra></extra>",
         "legendgroup": "Jan",
         "line": {
          "color": "#636efa"
         },
         "marker": {
          "symbol": "circle"
         },
         "mode": "lines",
         "name": "Jan",
         "orientation": "v",
         "showlegend": true,
         "stackgroup": "1",
         "type": "scatter",
         "x": {
          "bdata": "ygfLB8wHzQfOB88H0AfRB9IH0wfUB9UH1gfXB9gH2QfaB9sH3AfdB94H3wfgB+EH4gfjB+QH5QfmB+cH6AfpBw==",
          "dtype": "i2"
         },
         "xaxis": "x",
         "y": {
          "bdata": "uB6F61G4CEBI4XoUrkcHQEjhehSuRwVAKVyPwvUoBED2KFyPwvUCQB+F61G4HgFAPQrXo3A9AECPwvUoXI/+P5qZmZmZmf0/H4XrUbge/T9SuB6F61H8P2ZmZmZmZvo/9ihcj8L1+D8AAAAAAAD4P+F6FK5H4fY/cT0K16Nw9T+kcD0K16P0P9ejcD0K1/M/CtejcD0K8z+PwvUoXI/yP+xRuB6F6/E/mpmZmZmZ8T9xPQrXo3DxP/YoXI/C9fA/exSuR+F68D+uR+F6FK7vP7gehetRuO4/cT0K16Nw7T/NzMzMzMzsPz0K16NwPeo/mpmZmZmZ6T/2KFyPwvXoPw==",
          "dtype": "f8"
         },
         "yaxis": "y"
        },
        {
         "fillpattern": {
          "shape": ""
         },
         "hovertemplate": "Month=Feb<br>Year=%{x}<br>Peso Purchasing Power=%{y}<extra></extra>",
         "legendgroup": "Feb",
         "line": {
          "color": "#EF553B"
         },
         "marker": {
          "symbol": "circle"
         },
         "mode": "lines",
         "name": "Feb",
         "orientation": "v",
         "showlegend": true,
         "stackgroup": "1",
         "type": "scatter",
         "x": {
          "bdata": "ygfLB8wHzQfOB88H0AfRB9IH0wfUB9UH1gfXB9gH2QfaB9sH3AfdB94H3wfgB+EH4gfjB+QH5QfmB+cH6AfpBw==",
          "dtype": "i2"
         },
         "xaxis": "x",
         "y": {
          "bdata": "ZmZmZmZmCEAfhetRuB4HQB+F61G4HgVAFK5H4XoUBECkcD0K16MCQArXo3A9CgFAKVyPwvUoAECPwvUoXI/+P8P1KFyPwv0/9ihcj8L1/D8pXI/C9Sj8Pz0K16NwPfo/pHA9Ctej+D8AAAAAAAD4P+F6FK5H4fY/SOF6FK5H9T97FK5H4Xr0P4XrUbgehfM/CtejcD0K8z9mZmZmZmbyP8P1KFyPwvE/mpmZmZmZ8T9xPQrXo3DxP/YoXI/C9fA/UrgehetR8D9cj8L1KFzvP7gehetRuO4/cT0K16Nw7T97FK5H4XrsPz0K16NwPeo/mpmZmZmZ6T/2KFyPwvXoPw==",
          "dtype": "f8"
         },
         "yaxis": "y"
        },
        {
         "fillpattern": {
          "shape": ""
         },
         "hovertemplate": "Month=Mar<br>Year=%{x}<br>Peso Purchasing Power=%{y}<extra></extra>",
         "legendgroup": "Mar",
         "line": {
          "color": "#00cc96"
         },
         "marker": {
          "symbol": "circle"
         },
         "mode": "lines",
         "name": "Mar",
         "orientation": "v",
         "showlegend": true,
         "stackgroup": "1",
         "type": "scatter",
         "x": {
          "bdata": "ygfLB8wHzQfOB88H0AfRB9IH0wfUB9UH1gfXB9gH2QfaB9sH3AfdB94H3wfgB+EH4gfjB+QH5QfmB+cH6AfpBw==",
          "dtype": "i2"
         },
         "xaxis": "x",
         "y": {
          "bdata": "exSuR+F6CEAK16NwPQoHQB+F61G4HgVAAAAAAAAABEB7FK5H4XoCQB+F61G4HgFAKVyPwvUoAECPwvUoXI/+P5qZmZmZmf0/9ihcj8L1/D8pXI/C9Sj8Pz0K16NwPfo/pHA9Ctej+D8AAAAAAAD4P7gehetRuPY/SOF6FK5H9T97FK5H4Xr0P4XrUbgehfM/CtejcD0K8z9mZmZmZmbyP+xRuB6F6/E/mpmZmZmZ8T9xPQrXo3DxP/YoXI/C9fA/UrgehetR8D9cj8L1KFzvP7gehetRuO4/cT0K16Nw7T97FK5H4XrsP4/C9Shcj+o/mpmZmZmZ6T/2KFyPwvXoPw==",
          "dtype": "f8"
         },
         "yaxis": "y"
        },
        {
         "fillpattern": {
          "shape": ""
         },
         "hovertemplate": "Month=Apr<br>Year=%{x}<br>Peso Purchasing Power=%{y}<extra></extra>",
         "legendgroup": "Apr",
         "line": {
          "color": "#ab63fa"
         },
         "marker": {
          "symbol": "circle"
         },
         "mode": "lines",
         "name": "Apr",
         "orientation": "v",
         "showlegend": true,
         "stackgroup": "1",
         "type": "scatter",
         "x": {
          "bdata": "ygfLB8wHzQfOB88H0AfRB9IH0wfUB9UH1gfXB9gH2QfaB9sH3AfdB94H3wfgB+EH4gfjB+QH5QfmB+cH6AfpBw==",
          "dtype": "i2"
         },
         "xaxis": "x",
         "y": {
          "bdata": "ZmZmZmZmCED2KFyPwvUGQArXo3A9CgVAAAAAAAAABEBmZmZmZmYCQB+F61G4HgFAKVyPwvUoAECPwvUoXI/+P5qZmZmZmf0/9ihcj8L1/D8AAAAAAAD8PxSuR+F6FPo/pHA9Ctej+D8AAAAAAAD4P2ZmZmZmZvY/H4XrUbge9T9SuB6F61H0P4XrUbgehfM/4XoUrkfh8j9mZmZmZmbyP8P1KFyPwvE/mpmZmZmZ8T9xPQrXo3DxP/YoXI/C9fA/KVyPwvUo8D9cj8L1KFzvP7gehetRuO4/w/UoXI/C7T8pXI/C9SjsP4/C9Shcj+o/mpmZmZmZ6T9I4XoUrkfpPw==",
          "dtype": "f8"
         },
         "yaxis": "y"
        },
        {
         "fillpattern": {
          "shape": ""
         },
         "hovertemplate": "Month=May<br>Year=%{x}<br>Peso Purchasing Power=%{y}<extra></extra>",
         "legendgroup": "May",
         "line": {
          "color": "#FFA15A"
         },
         "marker": {
          "symbol": "circle"
         },
         "mode": "lines",
         "name": "May",
         "orientation": "v",
         "showlegend": true,
         "stackgroup": "1",
         "type": "scatter",
         "x": {
          "bdata": "ygfLB8wHzQfOB88H0AfRB9IH0wfUB9UH1gfXB9gH2QfaB9sH3AfdB94H3wfgB+EH4gfjB+QH5QfmB+cH6AfpBw==",
          "dtype": "i2"
         },
         "xaxis": "x",
         "y": {
          "bdata": "PQrXo3A9CEDhehSuR+EGQPYoXI/C9QRA7FG4HoXrA0ApXI/C9SgCQB+F61G4HgFAFK5H4XoUAECPwvUoXI/+P5qZmZmZmf0/9ihcj8L1/D/Xo3A9Ctf7PxSuR+F6FPo/exSuR+F6+D/Xo3A9Ctf3PxSuR+F6FPY/H4XrUbge9T9SuB6F61H0P1yPwvUoXPM/4XoUrkfh8j9mZmZmZmbyP8P1KFyPwvE/mpmZmZmZ8T9xPQrXo3DxP/YoXI/C9fA/KVyPwvUo8D9cj8L1KFzvP7gehetRuO4/w/UoXI/C7T8pXI/C9SjsP4/C9Shcj+o/mpmZmZmZ6T9I4XoUrkfpPw==",
          "dtype": "f8"
         },
         "yaxis": "y"
        },
        {
         "fillpattern": {
          "shape": ""
         },
         "hovertemplate": "Month=Jun<br>Year=%{x}<br>Peso Purchasing Power=%{y}<extra></extra>",
         "legendgroup": "Jun",
         "line": {
          "color": "#19d3f3"
         },
         "marker": {
          "symbol": "circle"
         },
         "mode": "lines",
         "name": "Jun",
         "orientation": "v",
         "showlegend": true,
         "stackgroup": "1",
         "type": "scatter",
         "x": {
          "bdata": "ygfLB8wHzQfOB88H0AfRB9IH0wfUB9UH1gfXB9gH2QfaB9sH3AfdB94H3wfgB+EH4gfjB+QH5QfmB+cH6AfpBw==",
          "dtype": "i2"
         },
         "xaxis": "x",
         "y": {
          "bdata": "KVyPwvUoCEC4HoXrUbgGQM3MzMzMzARAw/UoXI/CA0DsUbgehesBQArXo3A9CgFAAAAAAAAAAEA9CtejcD3+P3E9CtejcP0/pHA9Ctej/D+F61G4HoX7P8P1KFyPwvk/UrgehetR+D/Xo3A9Ctf3P8P1KFyPwvU/H4XrUbge9T9SuB6F61H0P1yPwvUoXPM/uB6F61G48j9mZmZmZmbyP5qZmZmZmfE/mpmZmZmZ8T9I4XoUrkfxP/YoXI/C9fA/KVyPwvUo8D9cj8L1KFzvP7gehetRuO4/cT0K16Nw7T/Xo3A9CtfrP4/C9Shcj+o/mpmZmZmZ6T/2KFyPwvXoPw==",
          "dtype": "f8"
         },
         "yaxis": "y"
        },
        {
         "fillpattern": {
          "shape": ""
         },
         "hovertemplate": "Month=Jul<br>Year=%{x}<br>Peso Purchasing Power=%{y}<extra></extra>",
         "legendgroup": "Jul",
         "line": {
          "color": "#FF6692"
         },
         "marker": {
          "symbol": "circle"
         },
         "mode": "lines",
         "name": "Jul",
         "orientation": "v",
         "showlegend": true,
         "stackgroup": "1",
         "type": "scatter",
         "x": {
          "bdata": "ygfLB8wHzQfOB88H0AfRB9IH0wfUB9UH1gfXB9gH2QfaB9sH3AfdB94H3wfgB+EH4gfjB+QH5QfmB+cH6AfpBw==",
          "dtype": "i2"
         },
         "xaxis": "x",
         "y": {
          "bdata": "AAAAAAAACECPwvUoXI8GQM3MzMzMzARArkfhehSuA0DXo3A9CtcBQPYoXI/C9QBA16NwPQrX/z8UrkfhehT+P0jhehSuR/0/pHA9Ctej/D8zMzMzMzP7P5qZmZmZmfk/UrgehetR+D+uR+F6FK73P3E9CtejcPU/9ihcj8L19D9SuB6F61H0P1yPwvUoXPM/uB6F61G48j89CtejcD3yP5qZmZmZmfE/mpmZmZmZ8T9I4XoUrkfxP/YoXI/C9fA/AAAAAAAA8D9cj8L1KFzvP2ZmZmZmZu4/cT0K16Nw7T+F61G4HoXrP4/C9Shcj+o/SOF6FK5H6T9SuB6F61H4Pw==",
          "dtype": "f8"
         },
         "yaxis": "y"
        },
        {
         "fillpattern": {
          "shape": ""
         },
         "hovertemplate": "Month=Aug<br>Year=%{x}<br>Peso Purchasing Power=%{y}<extra></extra>",
         "legendgroup": "Aug",
         "line": {
          "color": "#B6E880"
         },
         "marker": {
          "symbol": "circle"
         },
         "mode": "lines",
         "name": "Aug",
         "orientation": "v",
         "showlegend": true,
         "stackgroup": "1",
         "type": "scatter",
         "x": {
          "bdata": "ygfLB8wHzQfOB88H0AfRB9IH0wfUB9UH1gfXB9gH2QfaB9sH3AfdB94H3wfgB+EH4gfjB+QH5QfmB+cH6AfpBw==",
          "dtype": "i2"
         },
         "xaxis": "x",
         "y": {
          "bdata": "16NwPQrXB0BSuB6F61EGQKRwPQrXowRAmpmZmZmZA0DD9Shcj8IBQPYoXI/C9QBArkfhehSu/z8UrkfhehT+P0jhehSuR/0/pHA9Ctej/D8K16NwPQr7P3E9CtejcPk/UrgehetR+D+uR+F6FK73P3E9CtejcPU/9ihcj8L19D8pXI/C9Sj0PzMzMzMzM/M/j8L1KFyP8j89CtejcD3yP5qZmZmZmfE/mpmZmZmZ8T9I4XoUrkfxP83MzMzMzPA/rkfhehSu7z9cj8L1KFzvP2ZmZmZmZu4/H4XrUbge7T+F61G4HoXrPz0K16NwPeo/SOF6FK5H6T8pXI/C9Sj4Pw==",
          "dtype": "f8"
         },
         "yaxis": "y"
        },
        {
         "fillpattern": {
          "shape": ""
         },
         "hovertemplate": "Month=Sep<br>Year=%{x}<br>Peso Purchasing Power=%{y}<extra></extra>",
         "legendgroup": "Sep",
         "line": {
          "color": "#FF97FF"
         },
         "marker": {
          "symbol": "circle"
         },
         "mode": "lines",
         "name": "Sep",
         "orientation": "v",
         "showlegend": true,
         "stackgroup": "1",
         "type": "scatter",
         "x": {
          "bdata": "ygfLB8wHzQfOB88H0AfRB9IH0wfUB9UH1gfXB9gH2QfaB9sH3AfdB94H3wfgB+EH4gfjB+QH5QfmB+cH6AfpBw==",
          "dtype": "i2"
         },
         "xaxis": "x",
         "y": {
          "bdata": "w/UoXI/CB0AAAAAAAAAGQKRwPQrXowRAhetRuB6FA0CuR+F6FK4BQOF6FK5H4QBArkfhehSu/z/sUbgehev9P0jhehSuR/0/pHA9Ctej/D/hehSuR+H6P3E9CtejcPk/UrgehetR+D+F61G4HoX3P3E9CtejcPU/9ihcj8L19D8pXI/C9Sj0PzMzMzMzM/M/j8L1KFyP8j89CtejcD3yP3E9CtejcPE/mpmZmZmZ8T9I4XoUrkfxP83MzMzMzPA/XI/C9Shc7z8K16NwPQrvP2ZmZmZmZu4/H4XrUbge7T+F61G4HoXrP+xRuB6F6+k/SOF6FK5H6T8pXI/C9Sj4Pw==",
          "dtype": "f8"
         },
         "yaxis": "y"
        },
        {
         "fillpattern": {
          "shape": ""
         },
         "hovertemplate": "Month=Oct<br>Year=%{x}<br>Peso Purchasing Power=%{y}<extra></extra>",
         "legendgroup": "Oct",
         "line": {
          "color": "#FECB52"
         },
         "marker": {
          "symbol": "circle"
         },
         "mode": "lines",
         "name": "Oct",
         "orientation": "v",
         "showlegend": true,
         "stackgroup": "1",
         "type": "scatter",
         "x": {
          "bdata": "ygfLB8wHzQfOB88H0AfRB9IH0wfUB9UH1gfXB9gH2QfaB9sH3AfdB94H3wfgB+EH4gfjB+QH5QfmB+cH6AfpBw==",
          "dtype": "i2"
         },
         "xaxis": "x",
         "y": {
          "bdata": "w/UoXI/CB0DsUbgehesFQI/C9ShcjwRAcT0K16NwA0CuR+F6FK4BQM3MzMzMzABAhetRuB6F/z/sUbgehev9P0jhehSuR/0/pHA9Ctej/D/hehSuR+H6P0jhehSuR/k/KVyPwvUo+D+F61G4HoX3P3E9CtejcPU/zczMzMzM9D8pXI/C9Sj0PzMzMzMzM/M/j8L1KFyP8j8UrkfhehTyP3E9CtejcPE/mpmZmZmZ8T9I4XoUrkfxP6RwPQrXo/A/XI/C9Shc7z8K16NwPQrvP2ZmZmZmZu4/H4XrUbge7T8zMzMzMzPrP+xRuB6F6+k/SOF6FK5H6T8pXI/C9Sj4Pw==",
          "dtype": "f8"
         },
         "yaxis": "y"
        },
        {
         "fillpattern": {
          "shape": ""
         },
         "hovertemplate": "Month=Nov<br>Year=%{x}<br>Peso Purchasing Power=%{y}<extra></extra>",
         "legendgroup": "Nov",
         "line": {
          "color": "#636efa"
         },
         "marker": {
          "symbol": "circle"
         },
         "mode": "lines",
         "name": "Nov",
         "orientation": "v",
         "showlegend": true,
         "stackgroup": "1",
         "type": "scatter",
         "x": {
          "bdata": "ygfLB8wHzQfOB88H0AfRB9IH0wfUB9UH1gfXB9gH2QfaB9sH3AfdB94H3wfgB+EH4gfjB+QH5QfmB+cH6AfpBw==",
          "dtype": "i2"
         },
         "xaxis": "x",
         "y": {
          "bdata": "w/UoXI/CB0DsUbgehesFQI/C9ShcjwRASOF6FK5HA0BxPQrXo3ABQM3MzMzMzABACtejcD0K/z/sUbgehev9P0jhehSuR/0/exSuR+F6/D+4HoXrUbj6Px+F61G4Hvk/KVyPwvUo+D9cj8L1KFz3P3E9CtejcPU/zczMzMzM9D8AAAAAAAD0PwrXo3A9CvM/j8L1KFyP8j8UrkfhehTyP5qZmZmZmfE/cT0K16Nw8T8fhetRuB7xP6RwPQrXo/A/XI/C9Shc7z8K16NwPQrvPxSuR+F6FO4/H4XrUbge7T/hehSuR+HqP+xRuB6F6+k/SOF6FK5H6T8AAAAAAAD4Pw==",
          "dtype": "f8"
         },
         "yaxis": "y"
        },
        {
         "fillpattern": {
          "shape": ""
         },
         "hovertemplate": "Month=Dec<br>Year=%{x}<br>Peso Purchasing Power=%{y}<extra></extra>",
         "legendgroup": "Dec",
         "line": {
          "color": "#EF553B"
         },
         "marker": {
          "symbol": "circle"
         },
         "mode": "lines",
         "name": "Dec",
         "orientation": "v",
         "showlegend": true,
         "stackgroup": "1",
         "type": "scatter",
         "x": {
          "bdata": "ygfLB8wHzQfOB88H0AfRB9IH0wfUB9UH1gfXB9gH2QfaB9sH3AfdB94H3wfgB+EH4gfjB+QH5QfmB+cH6AfpBw==",
          "dtype": "i2"
         },
         "xaxis": "x",
         "y": {
          "bdata": "rkfhehSuB0DsUbgehesFQGZmZmZmZgRAMzMzMzMzA0BxPQrXo3ABQM3MzMzMzABA4XoUrkfh/j/D9Shcj8L9Px+F61G4Hv0/exSuR+F6/D+PwvUoXI/6Px+F61G4Hvk/KVyPwvUo+D8zMzMzMzP3P5qZmZmZmfU/pHA9Ctej9D8AAAAAAAD0PzMzMzMzM/M/j8L1KFyP8j/sUbgehevxP5qZmZmZmfE/cT0K16Nw8T8fhetRuB7xP6RwPQrXo/A/rkfhehSu7z+4HoXrUbjuP8P1KFyPwu0/zczMzMzM7D/hehSuR+HqP+xRuB6F6+k/9ihcj8L16D8AAAAAAAD4Pw==",
          "dtype": "f8"
         },
         "yaxis": "y"
        }
       ],
       "layout": {
        "height": 500,
        "legend": {
         "orientation": "h",
         "title": {
          "text": "Month"
         },
         "tracegroupgap": 0,
         "x": 1,
         "xanchor": "right",
         "y": 1.02,
         "yanchor": "bottom"
        },
        "template": {
         "data": {
          "bar": [
           {
            "error_x": {
             "color": "#2a3f5f"
            },
            "error_y": {
             "color": "#2a3f5f"
            },
            "marker": {
             "line": {
              "color": "white",
              "width": 0.5
             },
             "pattern": {
              "fillmode": "overlay",
              "size": 10,
              "solidity": 0.2
             }
            },
            "type": "bar"
           }
          ],
          "barpolar": [
           {
            "marker": {
             "line": {
              "color": "white",
              "width": 0.5
             },
             "pattern": {
              "fillmode": "overlay",
              "size": 10,
              "solidity": 0.2
             }
            },
            "type": "barpolar"
           }
          ],
          "carpet": [
           {
            "aaxis": {
             "endlinecolor": "#2a3f5f",
             "gridcolor": "#C8D4E3",
             "linecolor": "#C8D4E3",
             "minorgridcolor": "#C8D4E3",
             "startlinecolor": "#2a3f5f"
            },
            "baxis": {
             "endlinecolor": "#2a3f5f",
             "gridcolor": "#C8D4E3",
             "linecolor": "#C8D4E3",
             "minorgridcolor": "#C8D4E3",
             "startlinecolor": "#2a3f5f"
            },
            "type": "carpet"
           }
          ],
          "choropleth": [
           {
            "colorbar": {
             "outlinewidth": 0,
             "ticks": ""
            },
            "type": "choropleth"
           }
          ],
          "contour": [
           {
            "colorbar": {
             "outlinewidth": 0,
             "ticks": ""
            },
            "colorscale": [
             [
              0,
              "#0d0887"
             ],
             [
              0.1111111111111111,
              "#46039f"
             ],
             [
              0.2222222222222222,
              "#7201a8"
             ],
             [
              0.3333333333333333,
              "#9c179e"
             ],
             [
              0.4444444444444444,
              "#bd3786"
             ],
             [
              0.5555555555555556,
              "#d8576b"
             ],
             [
              0.6666666666666666,
              "#ed7953"
             ],
             [
              0.7777777777777778,
              "#fb9f3a"
             ],
             [
              0.8888888888888888,
              "#fdca26"
             ],
             [
              1,
              "#f0f921"
             ]
            ],
            "type": "contour"
           }
          ],
          "contourcarpet": [
           {
            "colorbar": {
             "outlinewidth": 0,
             "ticks": ""
            },
            "type": "contourcarpet"
           }
          ],
          "heatmap": [
           {
            "colorbar": {
             "outlinewidth": 0,
             "ticks": ""
            },
            "colorscale": [
             [
              0,
              "#0d0887"
             ],
             [
              0.1111111111111111,
              "#46039f"
             ],
             [
              0.2222222222222222,
              "#7201a8"
             ],
             [
              0.3333333333333333,
              "#9c179e"
             ],
             [
              0.4444444444444444,
              "#bd3786"
             ],
             [
              0.5555555555555556,
              "#d8576b"
             ],
             [
              0.6666666666666666,
              "#ed7953"
             ],
             [
              0.7777777777777778,
              "#fb9f3a"
             ],
             [
              0.8888888888888888,
              "#fdca26"
             ],
             [
              1,
              "#f0f921"
             ]
            ],
            "type": "heatmap"
           }
          ],
          "histogram": [
           {
            "marker": {
             "pattern": {
              "fillmode": "overlay",
              "size": 10,
              "solidity": 0.2
             }
            },
            "type": "histogram"
           }
          ],
          "histogram2d": [
           {
            "colorbar": {
             "outlinewidth": 0,
             "ticks": ""
            },
            "colorscale": [
             [
              0,
              "#0d0887"
             ],
             [
              0.1111111111111111,
              "#46039f"
             ],
             [
              0.2222222222222222,
              "#7201a8"
             ],
             [
              0.3333333333333333,
              "#9c179e"
             ],
             [
              0.4444444444444444,
              "#bd3786"
             ],
             [
              0.5555555555555556,
              "#d8576b"
             ],
             [
              0.6666666666666666,
              "#ed7953"
             ],
             [
              0.7777777777777778,
              "#fb9f3a"
             ],
             [
              0.8888888888888888,
              "#fdca26"
             ],
             [
              1,
              "#f0f921"
             ]
            ],
            "type": "histogram2d"
           }
          ],
          "histogram2dcontour": [
           {
            "colorbar": {
             "outlinewidth": 0,
             "ticks": ""
            },
            "colorscale": [
             [
              0,
              "#0d0887"
             ],
             [
              0.1111111111111111,
              "#46039f"
             ],
             [
              0.2222222222222222,
              "#7201a8"
             ],
             [
              0.3333333333333333,
              "#9c179e"
             ],
             [
              0.4444444444444444,
              "#bd3786"
             ],
             [
              0.5555555555555556,
              "#d8576b"
             ],
             [
              0.6666666666666666,
              "#ed7953"
             ],
             [
              0.7777777777777778,
              "#fb9f3a"
             ],
             [
              0.8888888888888888,
              "#fdca26"
             ],
             [
              1,
              "#f0f921"
             ]
            ],
            "type": "histogram2dcontour"
           }
          ],
          "mesh3d": [
           {
            "colorbar": {
             "outlinewidth": 0,
             "ticks": ""
            },
            "type": "mesh3d"
           }
          ],
          "parcoords": [
           {
            "line": {
             "colorbar": {
              "outlinewidth": 0,
              "ticks": ""
             }
            },
            "type": "parcoords"
           }
          ],
          "pie": [
           {
            "automargin": true,
            "type": "pie"
           }
          ],
          "scatter": [
           {
            "fillpattern": {
             "fillmode": "overlay",
             "size": 10,
             "solidity": 0.2
            },
            "type": "scatter"
           }
          ],
          "scatter3d": [
           {
            "line": {
             "colorbar": {
              "outlinewidth": 0,
              "ticks": ""
             }
            },
            "marker": {
             "colorbar": {
              "outlinewidth": 0,
              "ticks": ""
             }
            },
            "type": "scatter3d"
           }
          ],
          "scattercarpet": [
           {
            "marker": {
             "colorbar": {
              "outlinewidth": 0,
              "ticks": ""
             }
            },
            "type": "scattercarpet"
           }
          ],
          "scattergeo": [
           {
            "marker": {
             "colorbar": {
              "outlinewidth": 0,
              "ticks": ""
             }
            },
            "type": "scattergeo"
           }
          ],
          "scattergl": [
           {
            "marker": {
             "colorbar": {
              "outlinewidth": 0,
              "ticks": ""
             }
            },
            "type": "scattergl"
           }
          ],
          "scattermap": [
           {
            "marker": {
             "colorbar": {
              "outlinewidth": 0,
              "ticks": ""
             }
            },
            "type": "scattermap"
           }
          ],
          "scattermapbox": [
           {
            "marker": {
             "colorbar": {
              "outlinewidth": 0,
              "ticks": ""
             }
            },
            "type": "scattermapbox"
           }
          ],
          "scatterpolar": [
           {
            "marker": {
             "colorbar": {
              "outlinewidth": 0,
              "ticks": ""
             }
            },
            "type": "scatterpolar"
           }
          ],
          "scatterpolargl": [
           {
            "marker": {
             "colorbar": {
              "outlinewidth": 0,
              "ticks": ""
             }
            },
            "type": "scatterpolargl"
           }
          ],
          "scatterternary": [
           {
            "marker": {
             "colorbar": {
              "outlinewidth": 0,
              "ticks": ""
             }
            },
            "type": "scatterternary"
           }
          ],
          "surface": [
           {
            "colorbar": {
             "outlinewidth": 0,
             "ticks": ""
            },
            "colorscale": [
             [
              0,
              "#0d0887"
             ],
             [
              0.1111111111111111,
              "#46039f"
             ],
             [
              0.2222222222222222,
              "#7201a8"
             ],
             [
              0.3333333333333333,
              "#9c179e"
             ],
             [
              0.4444444444444444,
              "#bd3786"
             ],
             [
              0.5555555555555556,
              "#d8576b"
             ],
             [
              0.6666666666666666,
              "#ed7953"
             ],
             [
              0.7777777777777778,
              "#fb9f3a"
             ],
             [
              0.8888888888888888,
              "#fdca26"
             ],
             [
              1,
              "#f0f921"
             ]
            ],
            "type": "surface"
           }
          ],
          "table": [
           {
            "cells": {
             "fill": {
              "color": "#EBF0F8"
             },
             "line": {
              "color": "white"
             }
            },
            "header": {
             "fill": {
              "color": "#C8D4E3"
             },
             "line": {
              "color": "white"
             }
            },
            "type": "table"
           }
          ]
         },
         "layout": {
          "annotationdefaults": {
           "arrowcolor": "#2a3f5f",
           "arrowhead": 0,
           "arrowwidth": 1
          },
          "autotypenumbers": "strict",
          "coloraxis": {
           "colorbar": {
            "outlinewidth": 0,
            "ticks": ""
           }
          },
          "colorscale": {
           "diverging": [
            [
             0,
             "#8e0152"
            ],
            [
             0.1,
             "#c51b7d"
            ],
            [
             0.2,
             "#de77ae"
            ],
            [
             0.3,
             "#f1b6da"
            ],
            [
             0.4,
             "#fde0ef"
            ],
            [
             0.5,
             "#f7f7f7"
            ],
            [
             0.6,
             "#e6f5d0"
            ],
            [
             0.7,
             "#b8e186"
            ],
            [
             0.8,
             "#7fbc41"
            ],
            [
             0.9,
             "#4d9221"
            ],
            [
             1,
             "#276419"
            ]
           ],
           "sequential": [
            [
             0,
             "#0d0887"
            ],
            [
             0.1111111111111111,
             "#46039f"
            ],
            [
             0.2222222222222222,
             "#7201a8"
            ],
            [
             0.3333333333333333,
             "#9c179e"
            ],
            [
             0.4444444444444444,
             "#bd3786"
            ],
            [
             0.5555555555555556,
             "#d8576b"
            ],
            [
             0.6666666666666666,
             "#ed7953"
            ],
            [
             0.7777777777777778,
             "#fb9f3a"
            ],
            [
             0.8888888888888888,
             "#fdca26"
            ],
            [
             1,
             "#f0f921"
            ]
           ],
           "sequentialminus": [
            [
             0,
             "#0d0887"
            ],
            [
             0.1111111111111111,
             "#46039f"
            ],
            [
             0.2222222222222222,
             "#7201a8"
            ],
            [
             0.3333333333333333,
             "#9c179e"
            ],
            [
             0.4444444444444444,
             "#bd3786"
            ],
            [
             0.5555555555555556,
             "#d8576b"
            ],
            [
             0.6666666666666666,
             "#ed7953"
            ],
            [
             0.7777777777777778,
             "#fb9f3a"
            ],
            [
             0.8888888888888888,
             "#fdca26"
            ],
            [
             1,
             "#f0f921"
            ]
           ]
          },
          "colorway": [
           "#636efa",
           "#EF553B",
           "#00cc96",
           "#ab63fa",
           "#FFA15A",
           "#19d3f3",
           "#FF6692",
           "#B6E880",
           "#FF97FF",
           "#FECB52"
          ],
          "font": {
           "color": "#2a3f5f"
          },
          "geo": {
           "bgcolor": "white",
           "lakecolor": "white",
           "landcolor": "white",
           "showlakes": true,
           "showland": true,
           "subunitcolor": "#C8D4E3"
          },
          "hoverlabel": {
           "align": "left"
          },
          "hovermode": "closest",
          "mapbox": {
           "style": "light"
          },
          "paper_bgcolor": "white",
          "plot_bgcolor": "white",
          "polar": {
           "angularaxis": {
            "gridcolor": "#EBF0F8",
            "linecolor": "#EBF0F8",
            "ticks": ""
           },
           "bgcolor": "white",
           "radialaxis": {
            "gridcolor": "#EBF0F8",
            "linecolor": "#EBF0F8",
            "ticks": ""
           }
          },
          "scene": {
           "xaxis": {
            "backgroundcolor": "white",
            "gridcolor": "#DFE8F3",
            "gridwidth": 2,
            "linecolor": "#EBF0F8",
            "showbackground": true,
            "ticks": "",
            "zerolinecolor": "#EBF0F8"
           },
           "yaxis": {
            "backgroundcolor": "white",
            "gridcolor": "#DFE8F3",
            "gridwidth": 2,
            "linecolor": "#EBF0F8",
            "showbackground": true,
            "ticks": "",
            "zerolinecolor": "#EBF0F8"
           },
           "zaxis": {
            "backgroundcolor": "white",
            "gridcolor": "#DFE8F3",
            "gridwidth": 2,
            "linecolor": "#EBF0F8",
            "showbackground": true,
            "ticks": "",
            "zerolinecolor": "#EBF0F8"
           }
          },
          "shapedefaults": {
           "line": {
            "color": "#2a3f5f"
           }
          },
          "ternary": {
           "aaxis": {
            "gridcolor": "#DFE8F3",
            "linecolor": "#A2B1C6",
            "ticks": ""
           },
           "baxis": {
            "gridcolor": "#DFE8F3",
            "linecolor": "#A2B1C6",
            "ticks": ""
           },
           "bgcolor": "white",
           "caxis": {
            "gridcolor": "#DFE8F3",
            "linecolor": "#A2B1C6",
            "ticks": ""
           }
          },
          "title": {
           "x": 0.05
          },
          "xaxis": {
           "automargin": true,
           "gridcolor": "#EBF0F8",
           "linecolor": "#EBF0F8",
           "ticks": "",
           "title": {
            "standoff": 15
           },
           "zerolinecolor": "#EBF0F8",
           "zerolinewidth": 2
          },
          "yaxis": {
           "automargin": true,
           "gridcolor": "#EBF0F8",
           "linecolor": "#EBF0F8",
           "ticks": "",
           "title": {
            "standoff": 15
           },
           "zerolinecolor": "#EBF0F8",
           "zerolinewidth": 2
          }
         }
        },
        "title": {
         "text": "Peso Purchasing Power by Year and Month"
        },
        "xaxis": {
         "anchor": "y",
         "domain": [
          0,
          1
         ],
         "title": {
          "text": "Year"
         }
        },
        "yaxis": {
         "anchor": "x",
         "domain": [
          0,
          1
         ],
         "title": {
          "text": "Peso Purchasing Power"
         }
        }
       }
      }
     },
     "metadata": {},
     "output_type": "display_data"
    }
   ],
   "source": [
    "%pip install -q kaleido\n",
    "# Area chart using Plotly Express\n",
    "import plotly.express as px\n",
    "\n",
    "fig = px.area(\n",
    "    melt_df,\n",
    "    x='Year',\n",
    "    y='Peso Purchasing Power',\n",
    "    color='Month',\n",
    "    line_group='Month',\n",
    "    labels={'Dec': 'Value of One Peso (Base Year 2018)'},\n",
    "    title='Peso Purchasing Power by Year and Month',\n",
    "    template='plotly_white',\n",
    "    height=500\n",
    ")\n",
    "fig.update_layout(legend_title_text='Month', legend=dict(orientation='h', yanchor='bottom', y=1.02, xanchor='right', x=1))\n",
    "\n",
    "# Get the Dec values for each year\n",
    "# ...existing code...\n",
    "fig.write_image(\"peso_purchasing_power.svg\")\n",
    "# ...existing code...\n",
    "\n",
    "fig.show()\n"
   ]
  },
  {
   "cell_type": "code",
   "execution_count": 7,
   "id": "05c4b6b1",
   "metadata": {},
   "outputs": [
    {
     "data": {
      "application/vnd.plotly.v1+json": {
       "config": {
        "plotlyServerURL": "https://plot.ly"
       },
       "data": [
        {
         "fillpattern": {
          "shape": ""
         },
         "hovertemplate": "Month=Jan<br>Year=%{x}<br>Peso Purchasing Power=%{y}<extra></extra>",
         "legendgroup": "Jan",
         "line": {
          "color": "#636efa"
         },
         "marker": {
          "symbol": "circle"
         },
         "mode": "lines",
         "name": "Jan",
         "orientation": "v",
         "showlegend": true,
         "stackgroup": "1",
         "type": "scatter",
         "x": {
          "bdata": "ygfLB8wHzQfOB88H0AfRB9IH0wfUB9UH1gfXB9gH2QfaB9sH3AfdB94H3wfgB+EH4gfjB+QH5QfmB+cH6AfpBw==",
          "dtype": "i2"
         },
         "xaxis": "x",
         "y": {
          "bdata": "uB6F61G4CEBI4XoUrkcHQEjhehSuRwVAKVyPwvUoBED2KFyPwvUCQB+F61G4HgFAPQrXo3A9AECPwvUoXI/+P5qZmZmZmf0/H4XrUbge/T9SuB6F61H8P2ZmZmZmZvo/9ihcj8L1+D8AAAAAAAD4P+F6FK5H4fY/cT0K16Nw9T+kcD0K16P0P9ejcD0K1/M/CtejcD0K8z+PwvUoXI/yP+xRuB6F6/E/mpmZmZmZ8T9xPQrXo3DxP/YoXI/C9fA/exSuR+F68D+uR+F6FK7vP7gehetRuO4/cT0K16Nw7T/NzMzMzMzsPz0K16NwPeo/mpmZmZmZ6T/2KFyPwvXoPw==",
          "dtype": "f8"
         },
         "yaxis": "y"
        },
        {
         "fillpattern": {
          "shape": ""
         },
         "hovertemplate": "Month=Feb<br>Year=%{x}<br>Peso Purchasing Power=%{y}<extra></extra>",
         "legendgroup": "Feb",
         "line": {
          "color": "#EF553B"
         },
         "marker": {
          "symbol": "circle"
         },
         "mode": "lines",
         "name": "Feb",
         "orientation": "v",
         "showlegend": true,
         "stackgroup": "1",
         "type": "scatter",
         "x": {
          "bdata": "ygfLB8wHzQfOB88H0AfRB9IH0wfUB9UH1gfXB9gH2QfaB9sH3AfdB94H3wfgB+EH4gfjB+QH5QfmB+cH6AfpBw==",
          "dtype": "i2"
         },
         "xaxis": "x",
         "y": {
          "bdata": "ZmZmZmZmCEAfhetRuB4HQB+F61G4HgVAFK5H4XoUBECkcD0K16MCQArXo3A9CgFAKVyPwvUoAECPwvUoXI/+P8P1KFyPwv0/9ihcj8L1/D8pXI/C9Sj8Pz0K16NwPfo/pHA9Ctej+D8AAAAAAAD4P+F6FK5H4fY/SOF6FK5H9T97FK5H4Xr0P4XrUbgehfM/CtejcD0K8z9mZmZmZmbyP8P1KFyPwvE/mpmZmZmZ8T9xPQrXo3DxP/YoXI/C9fA/UrgehetR8D9cj8L1KFzvP7gehetRuO4/cT0K16Nw7T97FK5H4XrsPz0K16NwPeo/mpmZmZmZ6T/2KFyPwvXoPw==",
          "dtype": "f8"
         },
         "yaxis": "y"
        },
        {
         "fillpattern": {
          "shape": ""
         },
         "hovertemplate": "Month=Mar<br>Year=%{x}<br>Peso Purchasing Power=%{y}<extra></extra>",
         "legendgroup": "Mar",
         "line": {
          "color": "#00cc96"
         },
         "marker": {
          "symbol": "circle"
         },
         "mode": "lines",
         "name": "Mar",
         "orientation": "v",
         "showlegend": true,
         "stackgroup": "1",
         "type": "scatter",
         "x": {
          "bdata": "ygfLB8wHzQfOB88H0AfRB9IH0wfUB9UH1gfXB9gH2QfaB9sH3AfdB94H3wfgB+EH4gfjB+QH5QfmB+cH6AfpBw==",
          "dtype": "i2"
         },
         "xaxis": "x",
         "y": {
          "bdata": "exSuR+F6CEAK16NwPQoHQB+F61G4HgVAAAAAAAAABEB7FK5H4XoCQB+F61G4HgFAKVyPwvUoAECPwvUoXI/+P5qZmZmZmf0/9ihcj8L1/D8pXI/C9Sj8Pz0K16NwPfo/pHA9Ctej+D8AAAAAAAD4P7gehetRuPY/SOF6FK5H9T97FK5H4Xr0P4XrUbgehfM/CtejcD0K8z9mZmZmZmbyP+xRuB6F6/E/mpmZmZmZ8T9xPQrXo3DxP/YoXI/C9fA/UrgehetR8D9cj8L1KFzvP7gehetRuO4/cT0K16Nw7T97FK5H4XrsP4/C9Shcj+o/mpmZmZmZ6T/2KFyPwvXoPw==",
          "dtype": "f8"
         },
         "yaxis": "y"
        },
        {
         "fillpattern": {
          "shape": ""
         },
         "hovertemplate": "Month=Apr<br>Year=%{x}<br>Peso Purchasing Power=%{y}<extra></extra>",
         "legendgroup": "Apr",
         "line": {
          "color": "#ab63fa"
         },
         "marker": {
          "symbol": "circle"
         },
         "mode": "lines",
         "name": "Apr",
         "orientation": "v",
         "showlegend": true,
         "stackgroup": "1",
         "type": "scatter",
         "x": {
          "bdata": "ygfLB8wHzQfOB88H0AfRB9IH0wfUB9UH1gfXB9gH2QfaB9sH3AfdB94H3wfgB+EH4gfjB+QH5QfmB+cH6AfpBw==",
          "dtype": "i2"
         },
         "xaxis": "x",
         "y": {
          "bdata": "ZmZmZmZmCED2KFyPwvUGQArXo3A9CgVAAAAAAAAABEBmZmZmZmYCQB+F61G4HgFAKVyPwvUoAECPwvUoXI/+P5qZmZmZmf0/9ihcj8L1/D8AAAAAAAD8PxSuR+F6FPo/pHA9Ctej+D8AAAAAAAD4P2ZmZmZmZvY/H4XrUbge9T9SuB6F61H0P4XrUbgehfM/4XoUrkfh8j9mZmZmZmbyP8P1KFyPwvE/mpmZmZmZ8T9xPQrXo3DxP/YoXI/C9fA/KVyPwvUo8D9cj8L1KFzvP7gehetRuO4/w/UoXI/C7T8pXI/C9SjsP4/C9Shcj+o/mpmZmZmZ6T9I4XoUrkfpPw==",
          "dtype": "f8"
         },
         "yaxis": "y"
        },
        {
         "fillpattern": {
          "shape": ""
         },
         "hovertemplate": "Month=May<br>Year=%{x}<br>Peso Purchasing Power=%{y}<extra></extra>",
         "legendgroup": "May",
         "line": {
          "color": "#FFA15A"
         },
         "marker": {
          "symbol": "circle"
         },
         "mode": "lines",
         "name": "May",
         "orientation": "v",
         "showlegend": true,
         "stackgroup": "1",
         "type": "scatter",
         "x": {
          "bdata": "ygfLB8wHzQfOB88H0AfRB9IH0wfUB9UH1gfXB9gH2QfaB9sH3AfdB94H3wfgB+EH4gfjB+QH5QfmB+cH6AfpBw==",
          "dtype": "i2"
         },
         "xaxis": "x",
         "y": {
          "bdata": "PQrXo3A9CEDhehSuR+EGQPYoXI/C9QRA7FG4HoXrA0ApXI/C9SgCQB+F61G4HgFAFK5H4XoUAECPwvUoXI/+P5qZmZmZmf0/9ihcj8L1/D/Xo3A9Ctf7PxSuR+F6FPo/exSuR+F6+D/Xo3A9Ctf3PxSuR+F6FPY/H4XrUbge9T9SuB6F61H0P1yPwvUoXPM/4XoUrkfh8j9mZmZmZmbyP8P1KFyPwvE/mpmZmZmZ8T9xPQrXo3DxP/YoXI/C9fA/KVyPwvUo8D9cj8L1KFzvP7gehetRuO4/w/UoXI/C7T8pXI/C9SjsP4/C9Shcj+o/mpmZmZmZ6T9I4XoUrkfpPw==",
          "dtype": "f8"
         },
         "yaxis": "y"
        },
        {
         "fillpattern": {
          "shape": ""
         },
         "hovertemplate": "Month=Jun<br>Year=%{x}<br>Peso Purchasing Power=%{y}<extra></extra>",
         "legendgroup": "Jun",
         "line": {
          "color": "#19d3f3"
         },
         "marker": {
          "symbol": "circle"
         },
         "mode": "lines",
         "name": "Jun",
         "orientation": "v",
         "showlegend": true,
         "stackgroup": "1",
         "type": "scatter",
         "x": {
          "bdata": "ygfLB8wHzQfOB88H0AfRB9IH0wfUB9UH1gfXB9gH2QfaB9sH3AfdB94H3wfgB+EH4gfjB+QH5QfmB+cH6AfpBw==",
          "dtype": "i2"
         },
         "xaxis": "x",
         "y": {
          "bdata": "KVyPwvUoCEC4HoXrUbgGQM3MzMzMzARAw/UoXI/CA0DsUbgehesBQArXo3A9CgFAAAAAAAAAAEA9CtejcD3+P3E9CtejcP0/pHA9Ctej/D+F61G4HoX7P8P1KFyPwvk/UrgehetR+D/Xo3A9Ctf3P8P1KFyPwvU/H4XrUbge9T9SuB6F61H0P1yPwvUoXPM/uB6F61G48j9mZmZmZmbyP5qZmZmZmfE/mpmZmZmZ8T9I4XoUrkfxP/YoXI/C9fA/KVyPwvUo8D9cj8L1KFzvP7gehetRuO4/cT0K16Nw7T/Xo3A9CtfrP4/C9Shcj+o/mpmZmZmZ6T/2KFyPwvXoPw==",
          "dtype": "f8"
         },
         "yaxis": "y"
        },
        {
         "fillpattern": {
          "shape": ""
         },
         "hovertemplate": "Month=Jul<br>Year=%{x}<br>Peso Purchasing Power=%{y}<extra></extra>",
         "legendgroup": "Jul",
         "line": {
          "color": "#FF6692"
         },
         "marker": {
          "symbol": "circle"
         },
         "mode": "lines",
         "name": "Jul",
         "orientation": "v",
         "showlegend": true,
         "stackgroup": "1",
         "type": "scatter",
         "x": {
          "bdata": "ygfLB8wHzQfOB88H0AfRB9IH0wfUB9UH1gfXB9gH2QfaB9sH3AfdB94H3wfgB+EH4gfjB+QH5QfmB+cH6AfpBw==",
          "dtype": "i2"
         },
         "xaxis": "x",
         "y": {
          "bdata": "AAAAAAAACECPwvUoXI8GQM3MzMzMzARArkfhehSuA0DXo3A9CtcBQPYoXI/C9QBA16NwPQrX/z8UrkfhehT+P0jhehSuR/0/pHA9Ctej/D8zMzMzMzP7P5qZmZmZmfk/UrgehetR+D+uR+F6FK73P3E9CtejcPU/9ihcj8L19D9SuB6F61H0P1yPwvUoXPM/uB6F61G48j89CtejcD3yP5qZmZmZmfE/mpmZmZmZ8T9I4XoUrkfxP/YoXI/C9fA/AAAAAAAA8D9cj8L1KFzvP2ZmZmZmZu4/cT0K16Nw7T+F61G4HoXrP4/C9Shcj+o/SOF6FK5H6T9SuB6F61H4Pw==",
          "dtype": "f8"
         },
         "yaxis": "y"
        },
        {
         "fillpattern": {
          "shape": ""
         },
         "hovertemplate": "Month=Aug<br>Year=%{x}<br>Peso Purchasing Power=%{y}<extra></extra>",
         "legendgroup": "Aug",
         "line": {
          "color": "#B6E880"
         },
         "marker": {
          "symbol": "circle"
         },
         "mode": "lines",
         "name": "Aug",
         "orientation": "v",
         "showlegend": true,
         "stackgroup": "1",
         "type": "scatter",
         "x": {
          "bdata": "ygfLB8wHzQfOB88H0AfRB9IH0wfUB9UH1gfXB9gH2QfaB9sH3AfdB94H3wfgB+EH4gfjB+QH5QfmB+cH6AfpBw==",
          "dtype": "i2"
         },
         "xaxis": "x",
         "y": {
          "bdata": "16NwPQrXB0BSuB6F61EGQKRwPQrXowRAmpmZmZmZA0DD9Shcj8IBQPYoXI/C9QBArkfhehSu/z8UrkfhehT+P0jhehSuR/0/pHA9Ctej/D8K16NwPQr7P3E9CtejcPk/UrgehetR+D+uR+F6FK73P3E9CtejcPU/9ihcj8L19D8pXI/C9Sj0PzMzMzMzM/M/j8L1KFyP8j89CtejcD3yP5qZmZmZmfE/mpmZmZmZ8T9I4XoUrkfxP83MzMzMzPA/rkfhehSu7z9cj8L1KFzvP2ZmZmZmZu4/H4XrUbge7T+F61G4HoXrPz0K16NwPeo/SOF6FK5H6T8pXI/C9Sj4Pw==",
          "dtype": "f8"
         },
         "yaxis": "y"
        },
        {
         "fillpattern": {
          "shape": ""
         },
         "hovertemplate": "Month=Sep<br>Year=%{x}<br>Peso Purchasing Power=%{y}<extra></extra>",
         "legendgroup": "Sep",
         "line": {
          "color": "#FF97FF"
         },
         "marker": {
          "symbol": "circle"
         },
         "mode": "lines",
         "name": "Sep",
         "orientation": "v",
         "showlegend": true,
         "stackgroup": "1",
         "type": "scatter",
         "x": {
          "bdata": "ygfLB8wHzQfOB88H0AfRB9IH0wfUB9UH1gfXB9gH2QfaB9sH3AfdB94H3wfgB+EH4gfjB+QH5QfmB+cH6AfpBw==",
          "dtype": "i2"
         },
         "xaxis": "x",
         "y": {
          "bdata": "w/UoXI/CB0AAAAAAAAAGQKRwPQrXowRAhetRuB6FA0CuR+F6FK4BQOF6FK5H4QBArkfhehSu/z/sUbgehev9P0jhehSuR/0/pHA9Ctej/D/hehSuR+H6P3E9CtejcPk/UrgehetR+D+F61G4HoX3P3E9CtejcPU/9ihcj8L19D8pXI/C9Sj0PzMzMzMzM/M/j8L1KFyP8j89CtejcD3yP3E9CtejcPE/mpmZmZmZ8T9I4XoUrkfxP83MzMzMzPA/XI/C9Shc7z8K16NwPQrvP2ZmZmZmZu4/H4XrUbge7T+F61G4HoXrP+xRuB6F6+k/SOF6FK5H6T8pXI/C9Sj4Pw==",
          "dtype": "f8"
         },
         "yaxis": "y"
        },
        {
         "fillpattern": {
          "shape": ""
         },
         "hovertemplate": "Month=Oct<br>Year=%{x}<br>Peso Purchasing Power=%{y}<extra></extra>",
         "legendgroup": "Oct",
         "line": {
          "color": "#FECB52"
         },
         "marker": {
          "symbol": "circle"
         },
         "mode": "lines",
         "name": "Oct",
         "orientation": "v",
         "showlegend": true,
         "stackgroup": "1",
         "type": "scatter",
         "x": {
          "bdata": "ygfLB8wHzQfOB88H0AfRB9IH0wfUB9UH1gfXB9gH2QfaB9sH3AfdB94H3wfgB+EH4gfjB+QH5QfmB+cH6AfpBw==",
          "dtype": "i2"
         },
         "xaxis": "x",
         "y": {
          "bdata": "w/UoXI/CB0DsUbgehesFQI/C9ShcjwRAcT0K16NwA0CuR+F6FK4BQM3MzMzMzABAhetRuB6F/z/sUbgehev9P0jhehSuR/0/pHA9Ctej/D/hehSuR+H6P0jhehSuR/k/KVyPwvUo+D+F61G4HoX3P3E9CtejcPU/zczMzMzM9D8pXI/C9Sj0PzMzMzMzM/M/j8L1KFyP8j8UrkfhehTyP3E9CtejcPE/mpmZmZmZ8T9I4XoUrkfxP6RwPQrXo/A/XI/C9Shc7z8K16NwPQrvP2ZmZmZmZu4/H4XrUbge7T8zMzMzMzPrP+xRuB6F6+k/SOF6FK5H6T8pXI/C9Sj4Pw==",
          "dtype": "f8"
         },
         "yaxis": "y"
        },
        {
         "fillpattern": {
          "shape": ""
         },
         "hovertemplate": "Month=Nov<br>Year=%{x}<br>Peso Purchasing Power=%{y}<extra></extra>",
         "legendgroup": "Nov",
         "line": {
          "color": "#636efa"
         },
         "marker": {
          "symbol": "circle"
         },
         "mode": "lines",
         "name": "Nov",
         "orientation": "v",
         "showlegend": true,
         "stackgroup": "1",
         "type": "scatter",
         "x": {
          "bdata": "ygfLB8wHzQfOB88H0AfRB9IH0wfUB9UH1gfXB9gH2QfaB9sH3AfdB94H3wfgB+EH4gfjB+QH5QfmB+cH6AfpBw==",
          "dtype": "i2"
         },
         "xaxis": "x",
         "y": {
          "bdata": "w/UoXI/CB0DsUbgehesFQI/C9ShcjwRASOF6FK5HA0BxPQrXo3ABQM3MzMzMzABACtejcD0K/z/sUbgehev9P0jhehSuR/0/exSuR+F6/D+4HoXrUbj6Px+F61G4Hvk/KVyPwvUo+D9cj8L1KFz3P3E9CtejcPU/zczMzMzM9D8AAAAAAAD0PwrXo3A9CvM/j8L1KFyP8j8UrkfhehTyP5qZmZmZmfE/cT0K16Nw8T8fhetRuB7xP6RwPQrXo/A/XI/C9Shc7z8K16NwPQrvPxSuR+F6FO4/H4XrUbge7T/hehSuR+HqP+xRuB6F6+k/SOF6FK5H6T8AAAAAAAD4Pw==",
          "dtype": "f8"
         },
         "yaxis": "y"
        },
        {
         "fillpattern": {
          "shape": ""
         },
         "hovertemplate": "Month=Dec<br>Year=%{x}<br>Peso Purchasing Power=%{y}<extra></extra>",
         "legendgroup": "Dec",
         "line": {
          "color": "#EF553B"
         },
         "marker": {
          "symbol": "circle"
         },
         "mode": "lines",
         "name": "Dec",
         "orientation": "v",
         "showlegend": true,
         "stackgroup": "1",
         "type": "scatter",
         "x": {
          "bdata": "ygfLB8wHzQfOB88H0AfRB9IH0wfUB9UH1gfXB9gH2QfaB9sH3AfdB94H3wfgB+EH4gfjB+QH5QfmB+cH6AfpBw==",
          "dtype": "i2"
         },
         "xaxis": "x",
         "y": {
          "bdata": "rkfhehSuB0DsUbgehesFQGZmZmZmZgRAMzMzMzMzA0BxPQrXo3ABQM3MzMzMzABA4XoUrkfh/j/D9Shcj8L9Px+F61G4Hv0/exSuR+F6/D+PwvUoXI/6Px+F61G4Hvk/KVyPwvUo+D8zMzMzMzP3P5qZmZmZmfU/pHA9Ctej9D8AAAAAAAD0PzMzMzMzM/M/j8L1KFyP8j/sUbgehevxP5qZmZmZmfE/cT0K16Nw8T8fhetRuB7xP6RwPQrXo/A/rkfhehSu7z+4HoXrUbjuP8P1KFyPwu0/zczMzMzM7D/hehSuR+HqP+xRuB6F6+k/9ihcj8L16D8AAAAAAAD4Pw==",
          "dtype": "f8"
         },
         "yaxis": "y"
        }
       ],
       "layout": {
        "annotations": [
         {
          "font": {
           "color": "red",
           "size": 12
          },
          "showarrow": false,
          "text": "Global Recession",
          "x": "2008",
          "y": 1,
          "yref": "paper"
         },
         {
          "font": {
           "color": "blue",
           "size": 12
          },
          "showarrow": false,
          "text": "COVID-19 Pandemic",
          "x": "2021",
          "y": 1,
          "yref": "paper"
         }
        ],
        "height": 500,
        "legend": {
         "orientation": "h",
         "title": {
          "text": "Month"
         },
         "tracegroupgap": 0,
         "x": 1,
         "xanchor": "right",
         "y": 1.02,
         "yanchor": "bottom"
        },
        "shapes": [
         {
          "fillcolor": "red",
          "layer": "below",
          "line": {
           "width": 0
          },
          "opacity": 0.2,
          "type": "rect",
          "x0": "2007",
          "x1": "2009",
          "y0": 0,
          "y1": 1,
          "yref": "paper"
         },
         {
          "fillcolor": "blue",
          "layer": "below",
          "line": {
           "width": 0
          },
          "opacity": 0.2,
          "type": "rect",
          "x0": "2020",
          "x1": "2023",
          "y0": 0,
          "y1": 1,
          "yref": "paper"
         }
        ],
        "template": {
         "data": {
          "bar": [
           {
            "error_x": {
             "color": "#2a3f5f"
            },
            "error_y": {
             "color": "#2a3f5f"
            },
            "marker": {
             "line": {
              "color": "white",
              "width": 0.5
             },
             "pattern": {
              "fillmode": "overlay",
              "size": 10,
              "solidity": 0.2
             }
            },
            "type": "bar"
           }
          ],
          "barpolar": [
           {
            "marker": {
             "line": {
              "color": "white",
              "width": 0.5
             },
             "pattern": {
              "fillmode": "overlay",
              "size": 10,
              "solidity": 0.2
             }
            },
            "type": "barpolar"
           }
          ],
          "carpet": [
           {
            "aaxis": {
             "endlinecolor": "#2a3f5f",
             "gridcolor": "#C8D4E3",
             "linecolor": "#C8D4E3",
             "minorgridcolor": "#C8D4E3",
             "startlinecolor": "#2a3f5f"
            },
            "baxis": {
             "endlinecolor": "#2a3f5f",
             "gridcolor": "#C8D4E3",
             "linecolor": "#C8D4E3",
             "minorgridcolor": "#C8D4E3",
             "startlinecolor": "#2a3f5f"
            },
            "type": "carpet"
           }
          ],
          "choropleth": [
           {
            "colorbar": {
             "outlinewidth": 0,
             "ticks": ""
            },
            "type": "choropleth"
           }
          ],
          "contour": [
           {
            "colorbar": {
             "outlinewidth": 0,
             "ticks": ""
            },
            "colorscale": [
             [
              0,
              "#0d0887"
             ],
             [
              0.1111111111111111,
              "#46039f"
             ],
             [
              0.2222222222222222,
              "#7201a8"
             ],
             [
              0.3333333333333333,
              "#9c179e"
             ],
             [
              0.4444444444444444,
              "#bd3786"
             ],
             [
              0.5555555555555556,
              "#d8576b"
             ],
             [
              0.6666666666666666,
              "#ed7953"
             ],
             [
              0.7777777777777778,
              "#fb9f3a"
             ],
             [
              0.8888888888888888,
              "#fdca26"
             ],
             [
              1,
              "#f0f921"
             ]
            ],
            "type": "contour"
           }
          ],
          "contourcarpet": [
           {
            "colorbar": {
             "outlinewidth": 0,
             "ticks": ""
            },
            "type": "contourcarpet"
           }
          ],
          "heatmap": [
           {
            "colorbar": {
             "outlinewidth": 0,
             "ticks": ""
            },
            "colorscale": [
             [
              0,
              "#0d0887"
             ],
             [
              0.1111111111111111,
              "#46039f"
             ],
             [
              0.2222222222222222,
              "#7201a8"
             ],
             [
              0.3333333333333333,
              "#9c179e"
             ],
             [
              0.4444444444444444,
              "#bd3786"
             ],
             [
              0.5555555555555556,
              "#d8576b"
             ],
             [
              0.6666666666666666,
              "#ed7953"
             ],
             [
              0.7777777777777778,
              "#fb9f3a"
             ],
             [
              0.8888888888888888,
              "#fdca26"
             ],
             [
              1,
              "#f0f921"
             ]
            ],
            "type": "heatmap"
           }
          ],
          "histogram": [
           {
            "marker": {
             "pattern": {
              "fillmode": "overlay",
              "size": 10,
              "solidity": 0.2
             }
            },
            "type": "histogram"
           }
          ],
          "histogram2d": [
           {
            "colorbar": {
             "outlinewidth": 0,
             "ticks": ""
            },
            "colorscale": [
             [
              0,
              "#0d0887"
             ],
             [
              0.1111111111111111,
              "#46039f"
             ],
             [
              0.2222222222222222,
              "#7201a8"
             ],
             [
              0.3333333333333333,
              "#9c179e"
             ],
             [
              0.4444444444444444,
              "#bd3786"
             ],
             [
              0.5555555555555556,
              "#d8576b"
             ],
             [
              0.6666666666666666,
              "#ed7953"
             ],
             [
              0.7777777777777778,
              "#fb9f3a"
             ],
             [
              0.8888888888888888,
              "#fdca26"
             ],
             [
              1,
              "#f0f921"
             ]
            ],
            "type": "histogram2d"
           }
          ],
          "histogram2dcontour": [
           {
            "colorbar": {
             "outlinewidth": 0,
             "ticks": ""
            },
            "colorscale": [
             [
              0,
              "#0d0887"
             ],
             [
              0.1111111111111111,
              "#46039f"
             ],
             [
              0.2222222222222222,
              "#7201a8"
             ],
             [
              0.3333333333333333,
              "#9c179e"
             ],
             [
              0.4444444444444444,
              "#bd3786"
             ],
             [
              0.5555555555555556,
              "#d8576b"
             ],
             [
              0.6666666666666666,
              "#ed7953"
             ],
             [
              0.7777777777777778,
              "#fb9f3a"
             ],
             [
              0.8888888888888888,
              "#fdca26"
             ],
             [
              1,
              "#f0f921"
             ]
            ],
            "type": "histogram2dcontour"
           }
          ],
          "mesh3d": [
           {
            "colorbar": {
             "outlinewidth": 0,
             "ticks": ""
            },
            "type": "mesh3d"
           }
          ],
          "parcoords": [
           {
            "line": {
             "colorbar": {
              "outlinewidth": 0,
              "ticks": ""
             }
            },
            "type": "parcoords"
           }
          ],
          "pie": [
           {
            "automargin": true,
            "type": "pie"
           }
          ],
          "scatter": [
           {
            "fillpattern": {
             "fillmode": "overlay",
             "size": 10,
             "solidity": 0.2
            },
            "type": "scatter"
           }
          ],
          "scatter3d": [
           {
            "line": {
             "colorbar": {
              "outlinewidth": 0,
              "ticks": ""
             }
            },
            "marker": {
             "colorbar": {
              "outlinewidth": 0,
              "ticks": ""
             }
            },
            "type": "scatter3d"
           }
          ],
          "scattercarpet": [
           {
            "marker": {
             "colorbar": {
              "outlinewidth": 0,
              "ticks": ""
             }
            },
            "type": "scattercarpet"
           }
          ],
          "scattergeo": [
           {
            "marker": {
             "colorbar": {
              "outlinewidth": 0,
              "ticks": ""
             }
            },
            "type": "scattergeo"
           }
          ],
          "scattergl": [
           {
            "marker": {
             "colorbar": {
              "outlinewidth": 0,
              "ticks": ""
             }
            },
            "type": "scattergl"
           }
          ],
          "scattermap": [
           {
            "marker": {
             "colorbar": {
              "outlinewidth": 0,
              "ticks": ""
             }
            },
            "type": "scattermap"
           }
          ],
          "scattermapbox": [
           {
            "marker": {
             "colorbar": {
              "outlinewidth": 0,
              "ticks": ""
             }
            },
            "type": "scattermapbox"
           }
          ],
          "scatterpolar": [
           {
            "marker": {
             "colorbar": {
              "outlinewidth": 0,
              "ticks": ""
             }
            },
            "type": "scatterpolar"
           }
          ],
          "scatterpolargl": [
           {
            "marker": {
             "colorbar": {
              "outlinewidth": 0,
              "ticks": ""
             }
            },
            "type": "scatterpolargl"
           }
          ],
          "scatterternary": [
           {
            "marker": {
             "colorbar": {
              "outlinewidth": 0,
              "ticks": ""
             }
            },
            "type": "scatterternary"
           }
          ],
          "surface": [
           {
            "colorbar": {
             "outlinewidth": 0,
             "ticks": ""
            },
            "colorscale": [
             [
              0,
              "#0d0887"
             ],
             [
              0.1111111111111111,
              "#46039f"
             ],
             [
              0.2222222222222222,
              "#7201a8"
             ],
             [
              0.3333333333333333,
              "#9c179e"
             ],
             [
              0.4444444444444444,
              "#bd3786"
             ],
             [
              0.5555555555555556,
              "#d8576b"
             ],
             [
              0.6666666666666666,
              "#ed7953"
             ],
             [
              0.7777777777777778,
              "#fb9f3a"
             ],
             [
              0.8888888888888888,
              "#fdca26"
             ],
             [
              1,
              "#f0f921"
             ]
            ],
            "type": "surface"
           }
          ],
          "table": [
           {
            "cells": {
             "fill": {
              "color": "#EBF0F8"
             },
             "line": {
              "color": "white"
             }
            },
            "header": {
             "fill": {
              "color": "#C8D4E3"
             },
             "line": {
              "color": "white"
             }
            },
            "type": "table"
           }
          ]
         },
         "layout": {
          "annotationdefaults": {
           "arrowcolor": "#2a3f5f",
           "arrowhead": 0,
           "arrowwidth": 1
          },
          "autotypenumbers": "strict",
          "coloraxis": {
           "colorbar": {
            "outlinewidth": 0,
            "ticks": ""
           }
          },
          "colorscale": {
           "diverging": [
            [
             0,
             "#8e0152"
            ],
            [
             0.1,
             "#c51b7d"
            ],
            [
             0.2,
             "#de77ae"
            ],
            [
             0.3,
             "#f1b6da"
            ],
            [
             0.4,
             "#fde0ef"
            ],
            [
             0.5,
             "#f7f7f7"
            ],
            [
             0.6,
             "#e6f5d0"
            ],
            [
             0.7,
             "#b8e186"
            ],
            [
             0.8,
             "#7fbc41"
            ],
            [
             0.9,
             "#4d9221"
            ],
            [
             1,
             "#276419"
            ]
           ],
           "sequential": [
            [
             0,
             "#0d0887"
            ],
            [
             0.1111111111111111,
             "#46039f"
            ],
            [
             0.2222222222222222,
             "#7201a8"
            ],
            [
             0.3333333333333333,
             "#9c179e"
            ],
            [
             0.4444444444444444,
             "#bd3786"
            ],
            [
             0.5555555555555556,
             "#d8576b"
            ],
            [
             0.6666666666666666,
             "#ed7953"
            ],
            [
             0.7777777777777778,
             "#fb9f3a"
            ],
            [
             0.8888888888888888,
             "#fdca26"
            ],
            [
             1,
             "#f0f921"
            ]
           ],
           "sequentialminus": [
            [
             0,
             "#0d0887"
            ],
            [
             0.1111111111111111,
             "#46039f"
            ],
            [
             0.2222222222222222,
             "#7201a8"
            ],
            [
             0.3333333333333333,
             "#9c179e"
            ],
            [
             0.4444444444444444,
             "#bd3786"
            ],
            [
             0.5555555555555556,
             "#d8576b"
            ],
            [
             0.6666666666666666,
             "#ed7953"
            ],
            [
             0.7777777777777778,
             "#fb9f3a"
            ],
            [
             0.8888888888888888,
             "#fdca26"
            ],
            [
             1,
             "#f0f921"
            ]
           ]
          },
          "colorway": [
           "#636efa",
           "#EF553B",
           "#00cc96",
           "#ab63fa",
           "#FFA15A",
           "#19d3f3",
           "#FF6692",
           "#B6E880",
           "#FF97FF",
           "#FECB52"
          ],
          "font": {
           "color": "#2a3f5f"
          },
          "geo": {
           "bgcolor": "white",
           "lakecolor": "white",
           "landcolor": "white",
           "showlakes": true,
           "showland": true,
           "subunitcolor": "#C8D4E3"
          },
          "hoverlabel": {
           "align": "left"
          },
          "hovermode": "closest",
          "mapbox": {
           "style": "light"
          },
          "paper_bgcolor": "white",
          "plot_bgcolor": "white",
          "polar": {
           "angularaxis": {
            "gridcolor": "#EBF0F8",
            "linecolor": "#EBF0F8",
            "ticks": ""
           },
           "bgcolor": "white",
           "radialaxis": {
            "gridcolor": "#EBF0F8",
            "linecolor": "#EBF0F8",
            "ticks": ""
           }
          },
          "scene": {
           "xaxis": {
            "backgroundcolor": "white",
            "gridcolor": "#DFE8F3",
            "gridwidth": 2,
            "linecolor": "#EBF0F8",
            "showbackground": true,
            "ticks": "",
            "zerolinecolor": "#EBF0F8"
           },
           "yaxis": {
            "backgroundcolor": "white",
            "gridcolor": "#DFE8F3",
            "gridwidth": 2,
            "linecolor": "#EBF0F8",
            "showbackground": true,
            "ticks": "",
            "zerolinecolor": "#EBF0F8"
           },
           "zaxis": {
            "backgroundcolor": "white",
            "gridcolor": "#DFE8F3",
            "gridwidth": 2,
            "linecolor": "#EBF0F8",
            "showbackground": true,
            "ticks": "",
            "zerolinecolor": "#EBF0F8"
           }
          },
          "shapedefaults": {
           "line": {
            "color": "#2a3f5f"
           }
          },
          "ternary": {
           "aaxis": {
            "gridcolor": "#DFE8F3",
            "linecolor": "#A2B1C6",
            "ticks": ""
           },
           "baxis": {
            "gridcolor": "#DFE8F3",
            "linecolor": "#A2B1C6",
            "ticks": ""
           },
           "bgcolor": "white",
           "caxis": {
            "gridcolor": "#DFE8F3",
            "linecolor": "#A2B1C6",
            "ticks": ""
           }
          },
          "title": {
           "x": 0.05
          },
          "xaxis": {
           "automargin": true,
           "gridcolor": "#EBF0F8",
           "linecolor": "#EBF0F8",
           "ticks": "",
           "title": {
            "standoff": 15
           },
           "zerolinecolor": "#EBF0F8",
           "zerolinewidth": 2
          },
          "yaxis": {
           "automargin": true,
           "gridcolor": "#EBF0F8",
           "linecolor": "#EBF0F8",
           "ticks": "",
           "title": {
            "standoff": 15
           },
           "zerolinecolor": "#EBF0F8",
           "zerolinewidth": 2
          }
         }
        },
        "title": {
         "text": "Peso Purchasing Power by Year and Month"
        },
        "xaxis": {
         "anchor": "y",
         "domain": [
          0,
          1
         ],
         "title": {
          "text": "Year"
         }
        },
        "yaxis": {
         "anchor": "x",
         "domain": [
          0,
          1
         ],
         "title": {
          "text": "Peso Purchasing Power"
         }
        }
       }
      }
     },
     "metadata": {},
     "output_type": "display_data"
    }
   ],
   "source": [
    "fig.add_shape(\n",
    "    type=\"rect\",\n",
    "    x0=\"2007\", x1=\"2009\",\n",
    "    y0=0, y1=1,  # Will be updated below\n",
    "    fillcolor=\"red\",\n",
    "    opacity=0.2,\n",
    "    layer=\"below\",\n",
    "    line_width=0,\n",
    "    yref=\"paper\"  # This makes y0=0 (bottom), y1=1 (top) of the plot area\n",
    ")\n",
    "\n",
    "fig.add_shape(\n",
    "    type=\"rect\",\n",
    "    x0=\"2020\", x1=\"2023\",\n",
    "    y0=0, y1=1,  # Will be updated below\n",
    "    fillcolor=\"blue\",\n",
    "    opacity=0.2,\n",
    "    layer=\"below\",\n",
    "    line_width=0,\n",
    "    yref=\"paper\"  # This makes y0=0 (bottom), y1=1 (top) of the plot area\n",
    ")\n",
    "\n",
    "\n",
    "fig.add_annotation(\n",
    "    x=\"2008\",\n",
    "    y=1,\n",
    "    text=\"Global Recession\",\n",
    "    showarrow=False,\n",
    "    font=dict(size=12, color=\"red\"),\n",
    "    yref=\"paper\"\n",
    ")\n",
    "\n",
    "fig.add_annotation(\n",
    "    x=\"2021\",\n",
    "    y=1,\n",
    "    text=\"COVID-19 Pandemic\",\n",
    "    showarrow=False,\n",
    "    font=dict(size=12, color=\"blue\"),\n",
    "    yref=\"paper\"\n",
    ")\n"
   ]
  },
  {
   "cell_type": "code",
   "execution_count": 8,
   "id": "cbc3f022",
   "metadata": {},
   "outputs": [
    {
     "data": {
      "application/vnd.microsoft.datawrangler.viewer.v0+json": {
       "columns": [
        {
         "name": "index",
         "rawType": "int64",
         "type": "integer"
        },
        {
         "name": "Year",
         "rawType": "int64",
         "type": "integer"
        },
        {
         "name": "Rice Price",
         "rawType": "float64",
         "type": "float"
        }
       ],
       "ref": "0f5f1391-a02f-43c4-9860-d07ff6bb6ab0",
       "rows": [
        [
         "0",
         "1994",
         "5.9"
        ],
        [
         "1",
         "1995",
         "7.24"
        ],
        [
         "2",
         "1996",
         "8.13"
        ],
        [
         "3",
         "1997",
         "7.92"
        ],
        [
         "4",
         "1998",
         "8.3"
        ],
        [
         "5",
         "1999",
         "7.87"
        ],
        [
         "6",
         "2000",
         "8.42"
        ],
        [
         "7",
         "2001",
         "8.17"
        ],
        [
         "8",
         "2002",
         "8.82"
        ],
        [
         "9",
         "2003",
         "8.84"
        ],
        [
         "10",
         "2004",
         "9.45"
        ],
        [
         "11",
         "2005",
         "10.43"
        ],
        [
         "12",
         "2006",
         "10.46"
        ],
        [
         "13",
         "2007",
         "11.22"
        ],
        [
         "14",
         "2008",
         "14.13"
        ],
        [
         "15",
         "2009",
         "14.63"
        ],
        [
         "16",
         "2010",
         "14.87"
        ],
        [
         "17",
         "2011",
         "15.17"
        ],
        [
         "18",
         "2012",
         "16.22"
        ],
        [
         "19",
         "2013",
         "16.93"
        ],
        [
         "20",
         "2014",
         "20.07"
        ],
        [
         "21",
         "2015",
         "17.33"
        ],
        [
         "22",
         "2016",
         "17.43"
        ],
        [
         "23",
         "2017",
         "18.21"
        ],
        [
         "24",
         "2018",
         "20.4"
        ],
        [
         "25",
         "2019",
         "16.47"
        ],
        [
         "26",
         "2020",
         "16.72"
        ],
        [
         "27",
         "2021",
         "16.76"
        ],
        [
         "28",
         "2022",
         "17.44"
        ],
        [
         "29",
         "2023",
         "19.88"
        ],
        [
         "30",
         "2024",
         "23.33"
        ],
        [
         "31",
         "2025",
         "16.99"
        ]
       ],
       "shape": {
        "columns": 2,
        "rows": 32
       }
      },
      "text/html": [
       "<div>\n",
       "<style scoped>\n",
       "    .dataframe tbody tr th:only-of-type {\n",
       "        vertical-align: middle;\n",
       "    }\n",
       "\n",
       "    .dataframe tbody tr th {\n",
       "        vertical-align: top;\n",
       "    }\n",
       "\n",
       "    .dataframe thead th {\n",
       "        text-align: right;\n",
       "    }\n",
       "</style>\n",
       "<table border=\"1\" class=\"dataframe\">\n",
       "  <thead>\n",
       "    <tr style=\"text-align: right;\">\n",
       "      <th></th>\n",
       "      <th>Year</th>\n",
       "      <th>Rice Price</th>\n",
       "    </tr>\n",
       "  </thead>\n",
       "  <tbody>\n",
       "    <tr>\n",
       "      <th>0</th>\n",
       "      <td>1994</td>\n",
       "      <td>5.90</td>\n",
       "    </tr>\n",
       "    <tr>\n",
       "      <th>1</th>\n",
       "      <td>1995</td>\n",
       "      <td>7.24</td>\n",
       "    </tr>\n",
       "    <tr>\n",
       "      <th>2</th>\n",
       "      <td>1996</td>\n",
       "      <td>8.13</td>\n",
       "    </tr>\n",
       "    <tr>\n",
       "      <th>3</th>\n",
       "      <td>1997</td>\n",
       "      <td>7.92</td>\n",
       "    </tr>\n",
       "    <tr>\n",
       "      <th>4</th>\n",
       "      <td>1998</td>\n",
       "      <td>8.30</td>\n",
       "    </tr>\n",
       "    <tr>\n",
       "      <th>5</th>\n",
       "      <td>1999</td>\n",
       "      <td>7.87</td>\n",
       "    </tr>\n",
       "    <tr>\n",
       "      <th>6</th>\n",
       "      <td>2000</td>\n",
       "      <td>8.42</td>\n",
       "    </tr>\n",
       "    <tr>\n",
       "      <th>7</th>\n",
       "      <td>2001</td>\n",
       "      <td>8.17</td>\n",
       "    </tr>\n",
       "    <tr>\n",
       "      <th>8</th>\n",
       "      <td>2002</td>\n",
       "      <td>8.82</td>\n",
       "    </tr>\n",
       "    <tr>\n",
       "      <th>9</th>\n",
       "      <td>2003</td>\n",
       "      <td>8.84</td>\n",
       "    </tr>\n",
       "    <tr>\n",
       "      <th>10</th>\n",
       "      <td>2004</td>\n",
       "      <td>9.45</td>\n",
       "    </tr>\n",
       "    <tr>\n",
       "      <th>11</th>\n",
       "      <td>2005</td>\n",
       "      <td>10.43</td>\n",
       "    </tr>\n",
       "    <tr>\n",
       "      <th>12</th>\n",
       "      <td>2006</td>\n",
       "      <td>10.46</td>\n",
       "    </tr>\n",
       "    <tr>\n",
       "      <th>13</th>\n",
       "      <td>2007</td>\n",
       "      <td>11.22</td>\n",
       "    </tr>\n",
       "    <tr>\n",
       "      <th>14</th>\n",
       "      <td>2008</td>\n",
       "      <td>14.13</td>\n",
       "    </tr>\n",
       "    <tr>\n",
       "      <th>15</th>\n",
       "      <td>2009</td>\n",
       "      <td>14.63</td>\n",
       "    </tr>\n",
       "    <tr>\n",
       "      <th>16</th>\n",
       "      <td>2010</td>\n",
       "      <td>14.87</td>\n",
       "    </tr>\n",
       "    <tr>\n",
       "      <th>17</th>\n",
       "      <td>2011</td>\n",
       "      <td>15.17</td>\n",
       "    </tr>\n",
       "    <tr>\n",
       "      <th>18</th>\n",
       "      <td>2012</td>\n",
       "      <td>16.22</td>\n",
       "    </tr>\n",
       "    <tr>\n",
       "      <th>19</th>\n",
       "      <td>2013</td>\n",
       "      <td>16.93</td>\n",
       "    </tr>\n",
       "    <tr>\n",
       "      <th>20</th>\n",
       "      <td>2014</td>\n",
       "      <td>20.07</td>\n",
       "    </tr>\n",
       "    <tr>\n",
       "      <th>21</th>\n",
       "      <td>2015</td>\n",
       "      <td>17.33</td>\n",
       "    </tr>\n",
       "    <tr>\n",
       "      <th>22</th>\n",
       "      <td>2016</td>\n",
       "      <td>17.43</td>\n",
       "    </tr>\n",
       "    <tr>\n",
       "      <th>23</th>\n",
       "      <td>2017</td>\n",
       "      <td>18.21</td>\n",
       "    </tr>\n",
       "    <tr>\n",
       "      <th>24</th>\n",
       "      <td>2018</td>\n",
       "      <td>20.40</td>\n",
       "    </tr>\n",
       "    <tr>\n",
       "      <th>25</th>\n",
       "      <td>2019</td>\n",
       "      <td>16.47</td>\n",
       "    </tr>\n",
       "    <tr>\n",
       "      <th>26</th>\n",
       "      <td>2020</td>\n",
       "      <td>16.72</td>\n",
       "    </tr>\n",
       "    <tr>\n",
       "      <th>27</th>\n",
       "      <td>2021</td>\n",
       "      <td>16.76</td>\n",
       "    </tr>\n",
       "    <tr>\n",
       "      <th>28</th>\n",
       "      <td>2022</td>\n",
       "      <td>17.44</td>\n",
       "    </tr>\n",
       "    <tr>\n",
       "      <th>29</th>\n",
       "      <td>2023</td>\n",
       "      <td>19.88</td>\n",
       "    </tr>\n",
       "    <tr>\n",
       "      <th>30</th>\n",
       "      <td>2024</td>\n",
       "      <td>23.33</td>\n",
       "    </tr>\n",
       "    <tr>\n",
       "      <th>31</th>\n",
       "      <td>2025</td>\n",
       "      <td>16.99</td>\n",
       "    </tr>\n",
       "  </tbody>\n",
       "</table>\n",
       "</div>"
      ],
      "text/plain": [
       "    Year  Rice Price\n",
       "0   1994        5.90\n",
       "1   1995        7.24\n",
       "2   1996        8.13\n",
       "3   1997        7.92\n",
       "4   1998        8.30\n",
       "5   1999        7.87\n",
       "6   2000        8.42\n",
       "7   2001        8.17\n",
       "8   2002        8.82\n",
       "9   2003        8.84\n",
       "10  2004        9.45\n",
       "11  2005       10.43\n",
       "12  2006       10.46\n",
       "13  2007       11.22\n",
       "14  2008       14.13\n",
       "15  2009       14.63\n",
       "16  2010       14.87\n",
       "17  2011       15.17\n",
       "18  2012       16.22\n",
       "19  2013       16.93\n",
       "20  2014       20.07\n",
       "21  2015       17.33\n",
       "22  2016       17.43\n",
       "23  2017       18.21\n",
       "24  2018       20.40\n",
       "25  2019       16.47\n",
       "26  2020       16.72\n",
       "27  2021       16.76\n",
       "28  2022       17.44\n",
       "29  2023       19.88\n",
       "30  2024       23.33\n",
       "31  2025       16.99"
      ]
     },
     "execution_count": 8,
     "metadata": {},
     "output_type": "execute_result"
    }
   ],
   "source": [
    "rice = pd.read_excel(\"RicePriceHistory.xlsx\")\n",
    "\n",
    "rice"
   ]
  },
  {
   "cell_type": "code",
   "execution_count": 9,
   "id": "9fd3f583",
   "metadata": {},
   "outputs": [
    {
     "data": {
      "application/vnd.plotly.v1+json": {
       "config": {
        "plotlyServerURL": "https://plot.ly"
       },
       "data": [
        {
         "fillpattern": {
          "shape": ""
         },
         "hovertemplate": "Month=Jan<br>Year=%{x}<br>Peso Purchasing Power=%{y}<extra></extra>",
         "legendgroup": "Jan",
         "line": {
          "color": "#636efa"
         },
         "marker": {
          "symbol": "circle"
         },
         "mode": "lines",
         "name": "Jan",
         "orientation": "v",
         "showlegend": true,
         "stackgroup": "1",
         "type": "scatter",
         "x": {
          "bdata": "ygfLB8wHzQfOB88H0AfRB9IH0wfUB9UH1gfXB9gH2QfaB9sH3AfdB94H3wfgB+EH4gfjB+QH5QfmB+cH6AfpBw==",
          "dtype": "i2"
         },
         "xaxis": "x",
         "y": {
          "bdata": "uB6F61G4CEBI4XoUrkcHQEjhehSuRwVAKVyPwvUoBED2KFyPwvUCQB+F61G4HgFAPQrXo3A9AECPwvUoXI/+P5qZmZmZmf0/H4XrUbge/T9SuB6F61H8P2ZmZmZmZvo/9ihcj8L1+D8AAAAAAAD4P+F6FK5H4fY/cT0K16Nw9T+kcD0K16P0P9ejcD0K1/M/CtejcD0K8z+PwvUoXI/yP+xRuB6F6/E/mpmZmZmZ8T9xPQrXo3DxP/YoXI/C9fA/exSuR+F68D+uR+F6FK7vP7gehetRuO4/cT0K16Nw7T/NzMzMzMzsPz0K16NwPeo/mpmZmZmZ6T/2KFyPwvXoPw==",
          "dtype": "f8"
         },
         "yaxis": "y"
        },
        {
         "fillpattern": {
          "shape": ""
         },
         "hovertemplate": "Month=Feb<br>Year=%{x}<br>Peso Purchasing Power=%{y}<extra></extra>",
         "legendgroup": "Feb",
         "line": {
          "color": "#EF553B"
         },
         "marker": {
          "symbol": "circle"
         },
         "mode": "lines",
         "name": "Feb",
         "orientation": "v",
         "showlegend": true,
         "stackgroup": "1",
         "type": "scatter",
         "x": {
          "bdata": "ygfLB8wHzQfOB88H0AfRB9IH0wfUB9UH1gfXB9gH2QfaB9sH3AfdB94H3wfgB+EH4gfjB+QH5QfmB+cH6AfpBw==",
          "dtype": "i2"
         },
         "xaxis": "x",
         "y": {
          "bdata": "ZmZmZmZmCEAfhetRuB4HQB+F61G4HgVAFK5H4XoUBECkcD0K16MCQArXo3A9CgFAKVyPwvUoAECPwvUoXI/+P8P1KFyPwv0/9ihcj8L1/D8pXI/C9Sj8Pz0K16NwPfo/pHA9Ctej+D8AAAAAAAD4P+F6FK5H4fY/SOF6FK5H9T97FK5H4Xr0P4XrUbgehfM/CtejcD0K8z9mZmZmZmbyP8P1KFyPwvE/mpmZmZmZ8T9xPQrXo3DxP/YoXI/C9fA/UrgehetR8D9cj8L1KFzvP7gehetRuO4/cT0K16Nw7T97FK5H4XrsPz0K16NwPeo/mpmZmZmZ6T/2KFyPwvXoPw==",
          "dtype": "f8"
         },
         "yaxis": "y"
        },
        {
         "fillpattern": {
          "shape": ""
         },
         "hovertemplate": "Month=Mar<br>Year=%{x}<br>Peso Purchasing Power=%{y}<extra></extra>",
         "legendgroup": "Mar",
         "line": {
          "color": "#00cc96"
         },
         "marker": {
          "symbol": "circle"
         },
         "mode": "lines",
         "name": "Mar",
         "orientation": "v",
         "showlegend": true,
         "stackgroup": "1",
         "type": "scatter",
         "x": {
          "bdata": "ygfLB8wHzQfOB88H0AfRB9IH0wfUB9UH1gfXB9gH2QfaB9sH3AfdB94H3wfgB+EH4gfjB+QH5QfmB+cH6AfpBw==",
          "dtype": "i2"
         },
         "xaxis": "x",
         "y": {
          "bdata": "exSuR+F6CEAK16NwPQoHQB+F61G4HgVAAAAAAAAABEB7FK5H4XoCQB+F61G4HgFAKVyPwvUoAECPwvUoXI/+P5qZmZmZmf0/9ihcj8L1/D8pXI/C9Sj8Pz0K16NwPfo/pHA9Ctej+D8AAAAAAAD4P7gehetRuPY/SOF6FK5H9T97FK5H4Xr0P4XrUbgehfM/CtejcD0K8z9mZmZmZmbyP+xRuB6F6/E/mpmZmZmZ8T9xPQrXo3DxP/YoXI/C9fA/UrgehetR8D9cj8L1KFzvP7gehetRuO4/cT0K16Nw7T97FK5H4XrsP4/C9Shcj+o/mpmZmZmZ6T/2KFyPwvXoPw==",
          "dtype": "f8"
         },
         "yaxis": "y"
        },
        {
         "fillpattern": {
          "shape": ""
         },
         "hovertemplate": "Month=Apr<br>Year=%{x}<br>Peso Purchasing Power=%{y}<extra></extra>",
         "legendgroup": "Apr",
         "line": {
          "color": "#ab63fa"
         },
         "marker": {
          "symbol": "circle"
         },
         "mode": "lines",
         "name": "Apr",
         "orientation": "v",
         "showlegend": true,
         "stackgroup": "1",
         "type": "scatter",
         "x": {
          "bdata": "ygfLB8wHzQfOB88H0AfRB9IH0wfUB9UH1gfXB9gH2QfaB9sH3AfdB94H3wfgB+EH4gfjB+QH5QfmB+cH6AfpBw==",
          "dtype": "i2"
         },
         "xaxis": "x",
         "y": {
          "bdata": "ZmZmZmZmCED2KFyPwvUGQArXo3A9CgVAAAAAAAAABEBmZmZmZmYCQB+F61G4HgFAKVyPwvUoAECPwvUoXI/+P5qZmZmZmf0/9ihcj8L1/D8AAAAAAAD8PxSuR+F6FPo/pHA9Ctej+D8AAAAAAAD4P2ZmZmZmZvY/H4XrUbge9T9SuB6F61H0P4XrUbgehfM/4XoUrkfh8j9mZmZmZmbyP8P1KFyPwvE/mpmZmZmZ8T9xPQrXo3DxP/YoXI/C9fA/KVyPwvUo8D9cj8L1KFzvP7gehetRuO4/w/UoXI/C7T8pXI/C9SjsP4/C9Shcj+o/mpmZmZmZ6T9I4XoUrkfpPw==",
          "dtype": "f8"
         },
         "yaxis": "y"
        },
        {
         "fillpattern": {
          "shape": ""
         },
         "hovertemplate": "Month=May<br>Year=%{x}<br>Peso Purchasing Power=%{y}<extra></extra>",
         "legendgroup": "May",
         "line": {
          "color": "#FFA15A"
         },
         "marker": {
          "symbol": "circle"
         },
         "mode": "lines",
         "name": "May",
         "orientation": "v",
         "showlegend": true,
         "stackgroup": "1",
         "type": "scatter",
         "x": {
          "bdata": "ygfLB8wHzQfOB88H0AfRB9IH0wfUB9UH1gfXB9gH2QfaB9sH3AfdB94H3wfgB+EH4gfjB+QH5QfmB+cH6AfpBw==",
          "dtype": "i2"
         },
         "xaxis": "x",
         "y": {
          "bdata": "PQrXo3A9CEDhehSuR+EGQPYoXI/C9QRA7FG4HoXrA0ApXI/C9SgCQB+F61G4HgFAFK5H4XoUAECPwvUoXI/+P5qZmZmZmf0/9ihcj8L1/D/Xo3A9Ctf7PxSuR+F6FPo/exSuR+F6+D/Xo3A9Ctf3PxSuR+F6FPY/H4XrUbge9T9SuB6F61H0P1yPwvUoXPM/4XoUrkfh8j9mZmZmZmbyP8P1KFyPwvE/mpmZmZmZ8T9xPQrXo3DxP/YoXI/C9fA/KVyPwvUo8D9cj8L1KFzvP7gehetRuO4/w/UoXI/C7T8pXI/C9SjsP4/C9Shcj+o/mpmZmZmZ6T9I4XoUrkfpPw==",
          "dtype": "f8"
         },
         "yaxis": "y"
        },
        {
         "fillpattern": {
          "shape": ""
         },
         "hovertemplate": "Month=Jun<br>Year=%{x}<br>Peso Purchasing Power=%{y}<extra></extra>",
         "legendgroup": "Jun",
         "line": {
          "color": "#19d3f3"
         },
         "marker": {
          "symbol": "circle"
         },
         "mode": "lines",
         "name": "Jun",
         "orientation": "v",
         "showlegend": true,
         "stackgroup": "1",
         "type": "scatter",
         "x": {
          "bdata": "ygfLB8wHzQfOB88H0AfRB9IH0wfUB9UH1gfXB9gH2QfaB9sH3AfdB94H3wfgB+EH4gfjB+QH5QfmB+cH6AfpBw==",
          "dtype": "i2"
         },
         "xaxis": "x",
         "y": {
          "bdata": "KVyPwvUoCEC4HoXrUbgGQM3MzMzMzARAw/UoXI/CA0DsUbgehesBQArXo3A9CgFAAAAAAAAAAEA9CtejcD3+P3E9CtejcP0/pHA9Ctej/D+F61G4HoX7P8P1KFyPwvk/UrgehetR+D/Xo3A9Ctf3P8P1KFyPwvU/H4XrUbge9T9SuB6F61H0P1yPwvUoXPM/uB6F61G48j9mZmZmZmbyP5qZmZmZmfE/mpmZmZmZ8T9I4XoUrkfxP/YoXI/C9fA/KVyPwvUo8D9cj8L1KFzvP7gehetRuO4/cT0K16Nw7T/Xo3A9CtfrP4/C9Shcj+o/mpmZmZmZ6T/2KFyPwvXoPw==",
          "dtype": "f8"
         },
         "yaxis": "y"
        },
        {
         "fillpattern": {
          "shape": ""
         },
         "hovertemplate": "Month=Jul<br>Year=%{x}<br>Peso Purchasing Power=%{y}<extra></extra>",
         "legendgroup": "Jul",
         "line": {
          "color": "#FF6692"
         },
         "marker": {
          "symbol": "circle"
         },
         "mode": "lines",
         "name": "Jul",
         "orientation": "v",
         "showlegend": true,
         "stackgroup": "1",
         "type": "scatter",
         "x": {
          "bdata": "ygfLB8wHzQfOB88H0AfRB9IH0wfUB9UH1gfXB9gH2QfaB9sH3AfdB94H3wfgB+EH4gfjB+QH5QfmB+cH6AfpBw==",
          "dtype": "i2"
         },
         "xaxis": "x",
         "y": {
          "bdata": "AAAAAAAACECPwvUoXI8GQM3MzMzMzARArkfhehSuA0DXo3A9CtcBQPYoXI/C9QBA16NwPQrX/z8UrkfhehT+P0jhehSuR/0/pHA9Ctej/D8zMzMzMzP7P5qZmZmZmfk/UrgehetR+D+uR+F6FK73P3E9CtejcPU/9ihcj8L19D9SuB6F61H0P1yPwvUoXPM/uB6F61G48j89CtejcD3yP5qZmZmZmfE/mpmZmZmZ8T9I4XoUrkfxP/YoXI/C9fA/AAAAAAAA8D9cj8L1KFzvP2ZmZmZmZu4/cT0K16Nw7T+F61G4HoXrP4/C9Shcj+o/SOF6FK5H6T9SuB6F61H4Pw==",
          "dtype": "f8"
         },
         "yaxis": "y"
        },
        {
         "fillpattern": {
          "shape": ""
         },
         "hovertemplate": "Month=Aug<br>Year=%{x}<br>Peso Purchasing Power=%{y}<extra></extra>",
         "legendgroup": "Aug",
         "line": {
          "color": "#B6E880"
         },
         "marker": {
          "symbol": "circle"
         },
         "mode": "lines",
         "name": "Aug",
         "orientation": "v",
         "showlegend": true,
         "stackgroup": "1",
         "type": "scatter",
         "x": {
          "bdata": "ygfLB8wHzQfOB88H0AfRB9IH0wfUB9UH1gfXB9gH2QfaB9sH3AfdB94H3wfgB+EH4gfjB+QH5QfmB+cH6AfpBw==",
          "dtype": "i2"
         },
         "xaxis": "x",
         "y": {
          "bdata": "16NwPQrXB0BSuB6F61EGQKRwPQrXowRAmpmZmZmZA0DD9Shcj8IBQPYoXI/C9QBArkfhehSu/z8UrkfhehT+P0jhehSuR/0/pHA9Ctej/D8K16NwPQr7P3E9CtejcPk/UrgehetR+D+uR+F6FK73P3E9CtejcPU/9ihcj8L19D8pXI/C9Sj0PzMzMzMzM/M/j8L1KFyP8j89CtejcD3yP5qZmZmZmfE/mpmZmZmZ8T9I4XoUrkfxP83MzMzMzPA/rkfhehSu7z9cj8L1KFzvP2ZmZmZmZu4/H4XrUbge7T+F61G4HoXrPz0K16NwPeo/SOF6FK5H6T8pXI/C9Sj4Pw==",
          "dtype": "f8"
         },
         "yaxis": "y"
        },
        {
         "fillpattern": {
          "shape": ""
         },
         "hovertemplate": "Month=Sep<br>Year=%{x}<br>Peso Purchasing Power=%{y}<extra></extra>",
         "legendgroup": "Sep",
         "line": {
          "color": "#FF97FF"
         },
         "marker": {
          "symbol": "circle"
         },
         "mode": "lines",
         "name": "Sep",
         "orientation": "v",
         "showlegend": true,
         "stackgroup": "1",
         "type": "scatter",
         "x": {
          "bdata": "ygfLB8wHzQfOB88H0AfRB9IH0wfUB9UH1gfXB9gH2QfaB9sH3AfdB94H3wfgB+EH4gfjB+QH5QfmB+cH6AfpBw==",
          "dtype": "i2"
         },
         "xaxis": "x",
         "y": {
          "bdata": "w/UoXI/CB0AAAAAAAAAGQKRwPQrXowRAhetRuB6FA0CuR+F6FK4BQOF6FK5H4QBArkfhehSu/z/sUbgehev9P0jhehSuR/0/pHA9Ctej/D/hehSuR+H6P3E9CtejcPk/UrgehetR+D+F61G4HoX3P3E9CtejcPU/9ihcj8L19D8pXI/C9Sj0PzMzMzMzM/M/j8L1KFyP8j89CtejcD3yP3E9CtejcPE/mpmZmZmZ8T9I4XoUrkfxP83MzMzMzPA/XI/C9Shc7z8K16NwPQrvP2ZmZmZmZu4/H4XrUbge7T+F61G4HoXrP+xRuB6F6+k/SOF6FK5H6T8pXI/C9Sj4Pw==",
          "dtype": "f8"
         },
         "yaxis": "y"
        },
        {
         "fillpattern": {
          "shape": ""
         },
         "hovertemplate": "Month=Oct<br>Year=%{x}<br>Peso Purchasing Power=%{y}<extra></extra>",
         "legendgroup": "Oct",
         "line": {
          "color": "#FECB52"
         },
         "marker": {
          "symbol": "circle"
         },
         "mode": "lines",
         "name": "Oct",
         "orientation": "v",
         "showlegend": true,
         "stackgroup": "1",
         "type": "scatter",
         "x": {
          "bdata": "ygfLB8wHzQfOB88H0AfRB9IH0wfUB9UH1gfXB9gH2QfaB9sH3AfdB94H3wfgB+EH4gfjB+QH5QfmB+cH6AfpBw==",
          "dtype": "i2"
         },
         "xaxis": "x",
         "y": {
          "bdata": "w/UoXI/CB0DsUbgehesFQI/C9ShcjwRAcT0K16NwA0CuR+F6FK4BQM3MzMzMzABAhetRuB6F/z/sUbgehev9P0jhehSuR/0/pHA9Ctej/D/hehSuR+H6P0jhehSuR/k/KVyPwvUo+D+F61G4HoX3P3E9CtejcPU/zczMzMzM9D8pXI/C9Sj0PzMzMzMzM/M/j8L1KFyP8j8UrkfhehTyP3E9CtejcPE/mpmZmZmZ8T9I4XoUrkfxP6RwPQrXo/A/XI/C9Shc7z8K16NwPQrvP2ZmZmZmZu4/H4XrUbge7T8zMzMzMzPrP+xRuB6F6+k/SOF6FK5H6T8pXI/C9Sj4Pw==",
          "dtype": "f8"
         },
         "yaxis": "y"
        },
        {
         "fillpattern": {
          "shape": ""
         },
         "hovertemplate": "Month=Nov<br>Year=%{x}<br>Peso Purchasing Power=%{y}<extra></extra>",
         "legendgroup": "Nov",
         "line": {
          "color": "#636efa"
         },
         "marker": {
          "symbol": "circle"
         },
         "mode": "lines",
         "name": "Nov",
         "orientation": "v",
         "showlegend": true,
         "stackgroup": "1",
         "type": "scatter",
         "x": {
          "bdata": "ygfLB8wHzQfOB88H0AfRB9IH0wfUB9UH1gfXB9gH2QfaB9sH3AfdB94H3wfgB+EH4gfjB+QH5QfmB+cH6AfpBw==",
          "dtype": "i2"
         },
         "xaxis": "x",
         "y": {
          "bdata": "w/UoXI/CB0DsUbgehesFQI/C9ShcjwRASOF6FK5HA0BxPQrXo3ABQM3MzMzMzABACtejcD0K/z/sUbgehev9P0jhehSuR/0/exSuR+F6/D+4HoXrUbj6Px+F61G4Hvk/KVyPwvUo+D9cj8L1KFz3P3E9CtejcPU/zczMzMzM9D8AAAAAAAD0PwrXo3A9CvM/j8L1KFyP8j8UrkfhehTyP5qZmZmZmfE/cT0K16Nw8T8fhetRuB7xP6RwPQrXo/A/XI/C9Shc7z8K16NwPQrvPxSuR+F6FO4/H4XrUbge7T/hehSuR+HqP+xRuB6F6+k/SOF6FK5H6T8AAAAAAAD4Pw==",
          "dtype": "f8"
         },
         "yaxis": "y"
        },
        {
         "fillpattern": {
          "shape": ""
         },
         "hovertemplate": "Month=Dec<br>Year=%{x}<br>Peso Purchasing Power=%{y}<extra></extra>",
         "legendgroup": "Dec",
         "line": {
          "color": "#EF553B"
         },
         "marker": {
          "symbol": "circle"
         },
         "mode": "lines",
         "name": "Dec",
         "orientation": "v",
         "showlegend": true,
         "stackgroup": "1",
         "type": "scatter",
         "x": {
          "bdata": "ygfLB8wHzQfOB88H0AfRB9IH0wfUB9UH1gfXB9gH2QfaB9sH3AfdB94H3wfgB+EH4gfjB+QH5QfmB+cH6AfpBw==",
          "dtype": "i2"
         },
         "xaxis": "x",
         "y": {
          "bdata": "rkfhehSuB0DsUbgehesFQGZmZmZmZgRAMzMzMzMzA0BxPQrXo3ABQM3MzMzMzABA4XoUrkfh/j/D9Shcj8L9Px+F61G4Hv0/exSuR+F6/D+PwvUoXI/6Px+F61G4Hvk/KVyPwvUo+D8zMzMzMzP3P5qZmZmZmfU/pHA9Ctej9D8AAAAAAAD0PzMzMzMzM/M/j8L1KFyP8j/sUbgehevxP5qZmZmZmfE/cT0K16Nw8T8fhetRuB7xP6RwPQrXo/A/rkfhehSu7z+4HoXrUbjuP8P1KFyPwu0/zczMzMzM7D/hehSuR+HqP+xRuB6F6+k/9ihcj8L16D8AAAAAAAD4Pw==",
          "dtype": "f8"
         },
         "yaxis": "y"
        }
       ],
       "layout": {
        "annotations": [
         {
          "font": {
           "color": "red",
           "size": 12
          },
          "showarrow": false,
          "text": "Global Recession",
          "x": "2008",
          "y": 1,
          "yref": "paper"
         },
         {
          "font": {
           "color": "blue",
           "size": 12
          },
          "showarrow": false,
          "text": "COVID-19 Pandemic",
          "x": "2021",
          "y": 1,
          "yref": "paper"
         },
         {
          "font": {
           "color": "red",
           "size": 12
          },
          "showarrow": false,
          "text": "Global Recession",
          "x": "2008",
          "y": 1,
          "yref": "paper"
         },
         {
          "font": {
           "color": "blue",
           "size": 12
          },
          "showarrow": false,
          "text": "COVID-19 Pandemic",
          "x": "2021",
          "y": 1,
          "yref": "paper"
         }
        ],
        "height": 500,
        "legend": {
         "orientation": "h",
         "title": {
          "text": "Month"
         },
         "tracegroupgap": 0,
         "x": 0.5,
         "xanchor": "center",
         "y": -0.3,
         "yanchor": "bottom"
        },
        "shapes": [
         {
          "fillcolor": "red",
          "layer": "below",
          "line": {
           "width": 0
          },
          "opacity": 0.2,
          "type": "rect",
          "x0": "2007",
          "x1": "2009",
          "y0": 0,
          "y1": 1,
          "yref": "paper"
         },
         {
          "fillcolor": "blue",
          "layer": "below",
          "line": {
           "width": 0
          },
          "opacity": 0.2,
          "type": "rect",
          "x0": "2020",
          "x1": "2023",
          "y0": 0,
          "y1": 1,
          "yref": "paper"
         },
         {
          "fillcolor": "red",
          "layer": "below",
          "line": {
           "width": 0
          },
          "opacity": 0.2,
          "type": "rect",
          "x0": "2007",
          "x1": "2009",
          "y0": 0,
          "y1": 1,
          "yref": "paper"
         },
         {
          "fillcolor": "blue",
          "layer": "below",
          "line": {
           "width": 0
          },
          "opacity": 0.2,
          "type": "rect",
          "x0": "2020",
          "x1": "2023",
          "y0": 0,
          "y1": 1,
          "yref": "paper"
         }
        ],
        "template": {
         "data": {
          "bar": [
           {
            "error_x": {
             "color": "#2a3f5f"
            },
            "error_y": {
             "color": "#2a3f5f"
            },
            "marker": {
             "line": {
              "color": "white",
              "width": 0.5
             },
             "pattern": {
              "fillmode": "overlay",
              "size": 10,
              "solidity": 0.2
             }
            },
            "type": "bar"
           }
          ],
          "barpolar": [
           {
            "marker": {
             "line": {
              "color": "white",
              "width": 0.5
             },
             "pattern": {
              "fillmode": "overlay",
              "size": 10,
              "solidity": 0.2
             }
            },
            "type": "barpolar"
           }
          ],
          "carpet": [
           {
            "aaxis": {
             "endlinecolor": "#2a3f5f",
             "gridcolor": "#C8D4E3",
             "linecolor": "#C8D4E3",
             "minorgridcolor": "#C8D4E3",
             "startlinecolor": "#2a3f5f"
            },
            "baxis": {
             "endlinecolor": "#2a3f5f",
             "gridcolor": "#C8D4E3",
             "linecolor": "#C8D4E3",
             "minorgridcolor": "#C8D4E3",
             "startlinecolor": "#2a3f5f"
            },
            "type": "carpet"
           }
          ],
          "choropleth": [
           {
            "colorbar": {
             "outlinewidth": 0,
             "ticks": ""
            },
            "type": "choropleth"
           }
          ],
          "contour": [
           {
            "colorbar": {
             "outlinewidth": 0,
             "ticks": ""
            },
            "colorscale": [
             [
              0,
              "#0d0887"
             ],
             [
              0.1111111111111111,
              "#46039f"
             ],
             [
              0.2222222222222222,
              "#7201a8"
             ],
             [
              0.3333333333333333,
              "#9c179e"
             ],
             [
              0.4444444444444444,
              "#bd3786"
             ],
             [
              0.5555555555555556,
              "#d8576b"
             ],
             [
              0.6666666666666666,
              "#ed7953"
             ],
             [
              0.7777777777777778,
              "#fb9f3a"
             ],
             [
              0.8888888888888888,
              "#fdca26"
             ],
             [
              1,
              "#f0f921"
             ]
            ],
            "type": "contour"
           }
          ],
          "contourcarpet": [
           {
            "colorbar": {
             "outlinewidth": 0,
             "ticks": ""
            },
            "type": "contourcarpet"
           }
          ],
          "heatmap": [
           {
            "colorbar": {
             "outlinewidth": 0,
             "ticks": ""
            },
            "colorscale": [
             [
              0,
              "#0d0887"
             ],
             [
              0.1111111111111111,
              "#46039f"
             ],
             [
              0.2222222222222222,
              "#7201a8"
             ],
             [
              0.3333333333333333,
              "#9c179e"
             ],
             [
              0.4444444444444444,
              "#bd3786"
             ],
             [
              0.5555555555555556,
              "#d8576b"
             ],
             [
              0.6666666666666666,
              "#ed7953"
             ],
             [
              0.7777777777777778,
              "#fb9f3a"
             ],
             [
              0.8888888888888888,
              "#fdca26"
             ],
             [
              1,
              "#f0f921"
             ]
            ],
            "type": "heatmap"
           }
          ],
          "histogram": [
           {
            "marker": {
             "pattern": {
              "fillmode": "overlay",
              "size": 10,
              "solidity": 0.2
             }
            },
            "type": "histogram"
           }
          ],
          "histogram2d": [
           {
            "colorbar": {
             "outlinewidth": 0,
             "ticks": ""
            },
            "colorscale": [
             [
              0,
              "#0d0887"
             ],
             [
              0.1111111111111111,
              "#46039f"
             ],
             [
              0.2222222222222222,
              "#7201a8"
             ],
             [
              0.3333333333333333,
              "#9c179e"
             ],
             [
              0.4444444444444444,
              "#bd3786"
             ],
             [
              0.5555555555555556,
              "#d8576b"
             ],
             [
              0.6666666666666666,
              "#ed7953"
             ],
             [
              0.7777777777777778,
              "#fb9f3a"
             ],
             [
              0.8888888888888888,
              "#fdca26"
             ],
             [
              1,
              "#f0f921"
             ]
            ],
            "type": "histogram2d"
           }
          ],
          "histogram2dcontour": [
           {
            "colorbar": {
             "outlinewidth": 0,
             "ticks": ""
            },
            "colorscale": [
             [
              0,
              "#0d0887"
             ],
             [
              0.1111111111111111,
              "#46039f"
             ],
             [
              0.2222222222222222,
              "#7201a8"
             ],
             [
              0.3333333333333333,
              "#9c179e"
             ],
             [
              0.4444444444444444,
              "#bd3786"
             ],
             [
              0.5555555555555556,
              "#d8576b"
             ],
             [
              0.6666666666666666,
              "#ed7953"
             ],
             [
              0.7777777777777778,
              "#fb9f3a"
             ],
             [
              0.8888888888888888,
              "#fdca26"
             ],
             [
              1,
              "#f0f921"
             ]
            ],
            "type": "histogram2dcontour"
           }
          ],
          "mesh3d": [
           {
            "colorbar": {
             "outlinewidth": 0,
             "ticks": ""
            },
            "type": "mesh3d"
           }
          ],
          "parcoords": [
           {
            "line": {
             "colorbar": {
              "outlinewidth": 0,
              "ticks": ""
             }
            },
            "type": "parcoords"
           }
          ],
          "pie": [
           {
            "automargin": true,
            "type": "pie"
           }
          ],
          "scatter": [
           {
            "fillpattern": {
             "fillmode": "overlay",
             "size": 10,
             "solidity": 0.2
            },
            "type": "scatter"
           }
          ],
          "scatter3d": [
           {
            "line": {
             "colorbar": {
              "outlinewidth": 0,
              "ticks": ""
             }
            },
            "marker": {
             "colorbar": {
              "outlinewidth": 0,
              "ticks": ""
             }
            },
            "type": "scatter3d"
           }
          ],
          "scattercarpet": [
           {
            "marker": {
             "colorbar": {
              "outlinewidth": 0,
              "ticks": ""
             }
            },
            "type": "scattercarpet"
           }
          ],
          "scattergeo": [
           {
            "marker": {
             "colorbar": {
              "outlinewidth": 0,
              "ticks": ""
             }
            },
            "type": "scattergeo"
           }
          ],
          "scattergl": [
           {
            "marker": {
             "colorbar": {
              "outlinewidth": 0,
              "ticks": ""
             }
            },
            "type": "scattergl"
           }
          ],
          "scattermap": [
           {
            "marker": {
             "colorbar": {
              "outlinewidth": 0,
              "ticks": ""
             }
            },
            "type": "scattermap"
           }
          ],
          "scattermapbox": [
           {
            "marker": {
             "colorbar": {
              "outlinewidth": 0,
              "ticks": ""
             }
            },
            "type": "scattermapbox"
           }
          ],
          "scatterpolar": [
           {
            "marker": {
             "colorbar": {
              "outlinewidth": 0,
              "ticks": ""
             }
            },
            "type": "scatterpolar"
           }
          ],
          "scatterpolargl": [
           {
            "marker": {
             "colorbar": {
              "outlinewidth": 0,
              "ticks": ""
             }
            },
            "type": "scatterpolargl"
           }
          ],
          "scatterternary": [
           {
            "marker": {
             "colorbar": {
              "outlinewidth": 0,
              "ticks": ""
             }
            },
            "type": "scatterternary"
           }
          ],
          "surface": [
           {
            "colorbar": {
             "outlinewidth": 0,
             "ticks": ""
            },
            "colorscale": [
             [
              0,
              "#0d0887"
             ],
             [
              0.1111111111111111,
              "#46039f"
             ],
             [
              0.2222222222222222,
              "#7201a8"
             ],
             [
              0.3333333333333333,
              "#9c179e"
             ],
             [
              0.4444444444444444,
              "#bd3786"
             ],
             [
              0.5555555555555556,
              "#d8576b"
             ],
             [
              0.6666666666666666,
              "#ed7953"
             ],
             [
              0.7777777777777778,
              "#fb9f3a"
             ],
             [
              0.8888888888888888,
              "#fdca26"
             ],
             [
              1,
              "#f0f921"
             ]
            ],
            "type": "surface"
           }
          ],
          "table": [
           {
            "cells": {
             "fill": {
              "color": "#EBF0F8"
             },
             "line": {
              "color": "white"
             }
            },
            "header": {
             "fill": {
              "color": "#C8D4E3"
             },
             "line": {
              "color": "white"
             }
            },
            "type": "table"
           }
          ]
         },
         "layout": {
          "annotationdefaults": {
           "arrowcolor": "#2a3f5f",
           "arrowhead": 0,
           "arrowwidth": 1
          },
          "autotypenumbers": "strict",
          "coloraxis": {
           "colorbar": {
            "outlinewidth": 0,
            "ticks": ""
           }
          },
          "colorscale": {
           "diverging": [
            [
             0,
             "#8e0152"
            ],
            [
             0.1,
             "#c51b7d"
            ],
            [
             0.2,
             "#de77ae"
            ],
            [
             0.3,
             "#f1b6da"
            ],
            [
             0.4,
             "#fde0ef"
            ],
            [
             0.5,
             "#f7f7f7"
            ],
            [
             0.6,
             "#e6f5d0"
            ],
            [
             0.7,
             "#b8e186"
            ],
            [
             0.8,
             "#7fbc41"
            ],
            [
             0.9,
             "#4d9221"
            ],
            [
             1,
             "#276419"
            ]
           ],
           "sequential": [
            [
             0,
             "#0d0887"
            ],
            [
             0.1111111111111111,
             "#46039f"
            ],
            [
             0.2222222222222222,
             "#7201a8"
            ],
            [
             0.3333333333333333,
             "#9c179e"
            ],
            [
             0.4444444444444444,
             "#bd3786"
            ],
            [
             0.5555555555555556,
             "#d8576b"
            ],
            [
             0.6666666666666666,
             "#ed7953"
            ],
            [
             0.7777777777777778,
             "#fb9f3a"
            ],
            [
             0.8888888888888888,
             "#fdca26"
            ],
            [
             1,
             "#f0f921"
            ]
           ],
           "sequentialminus": [
            [
             0,
             "#0d0887"
            ],
            [
             0.1111111111111111,
             "#46039f"
            ],
            [
             0.2222222222222222,
             "#7201a8"
            ],
            [
             0.3333333333333333,
             "#9c179e"
            ],
            [
             0.4444444444444444,
             "#bd3786"
            ],
            [
             0.5555555555555556,
             "#d8576b"
            ],
            [
             0.6666666666666666,
             "#ed7953"
            ],
            [
             0.7777777777777778,
             "#fb9f3a"
            ],
            [
             0.8888888888888888,
             "#fdca26"
            ],
            [
             1,
             "#f0f921"
            ]
           ]
          },
          "colorway": [
           "#636efa",
           "#EF553B",
           "#00cc96",
           "#ab63fa",
           "#FFA15A",
           "#19d3f3",
           "#FF6692",
           "#B6E880",
           "#FF97FF",
           "#FECB52"
          ],
          "font": {
           "color": "#2a3f5f"
          },
          "geo": {
           "bgcolor": "white",
           "lakecolor": "white",
           "landcolor": "white",
           "showlakes": true,
           "showland": true,
           "subunitcolor": "#C8D4E3"
          },
          "hoverlabel": {
           "align": "left"
          },
          "hovermode": "closest",
          "mapbox": {
           "style": "light"
          },
          "paper_bgcolor": "white",
          "plot_bgcolor": "white",
          "polar": {
           "angularaxis": {
            "gridcolor": "#EBF0F8",
            "linecolor": "#EBF0F8",
            "ticks": ""
           },
           "bgcolor": "white",
           "radialaxis": {
            "gridcolor": "#EBF0F8",
            "linecolor": "#EBF0F8",
            "ticks": ""
           }
          },
          "scene": {
           "xaxis": {
            "backgroundcolor": "white",
            "gridcolor": "#DFE8F3",
            "gridwidth": 2,
            "linecolor": "#EBF0F8",
            "showbackground": true,
            "ticks": "",
            "zerolinecolor": "#EBF0F8"
           },
           "yaxis": {
            "backgroundcolor": "white",
            "gridcolor": "#DFE8F3",
            "gridwidth": 2,
            "linecolor": "#EBF0F8",
            "showbackground": true,
            "ticks": "",
            "zerolinecolor": "#EBF0F8"
           },
           "zaxis": {
            "backgroundcolor": "white",
            "gridcolor": "#DFE8F3",
            "gridwidth": 2,
            "linecolor": "#EBF0F8",
            "showbackground": true,
            "ticks": "",
            "zerolinecolor": "#EBF0F8"
           }
          },
          "shapedefaults": {
           "line": {
            "color": "#2a3f5f"
           }
          },
          "ternary": {
           "aaxis": {
            "gridcolor": "#DFE8F3",
            "linecolor": "#A2B1C6",
            "ticks": ""
           },
           "baxis": {
            "gridcolor": "#DFE8F3",
            "linecolor": "#A2B1C6",
            "ticks": ""
           },
           "bgcolor": "white",
           "caxis": {
            "gridcolor": "#DFE8F3",
            "linecolor": "#A2B1C6",
            "ticks": ""
           }
          },
          "title": {
           "x": 0.05
          },
          "xaxis": {
           "automargin": true,
           "gridcolor": "#EBF0F8",
           "linecolor": "#EBF0F8",
           "ticks": "",
           "title": {
            "standoff": 15
           },
           "zerolinecolor": "#EBF0F8",
           "zerolinewidth": 2
          },
          "yaxis": {
           "automargin": true,
           "gridcolor": "#EBF0F8",
           "linecolor": "#EBF0F8",
           "ticks": "",
           "title": {
            "standoff": 15
           },
           "zerolinecolor": "#EBF0F8",
           "zerolinewidth": 2
          }
         }
        },
        "title": {
         "text": "Peso Purchasing Power"
        },
        "xaxis": {
         "anchor": "y",
         "domain": [
          0,
          1
         ],
         "title": {
          "text": "Year"
         }
        },
        "yaxis": {
         "anchor": "x",
         "domain": [
          0,
          1
         ],
         "title": {
          "text": "Avg Purchasing Power"
         }
        }
       }
      }
     },
     "metadata": {},
     "output_type": "display_data"
    }
   ],
   "source": [
    "fig.add_shape(\n",
    "    type=\"rect\",\n",
    "    x0=\"2007\", x1=\"2009\",\n",
    "    y0=0, y1=1,  # Will be updated below\n",
    "    fillcolor=\"red\",\n",
    "    opacity=0.2,\n",
    "    layer=\"below\",\n",
    "    line_width=0,\n",
    "    yref=\"paper\"  # This makes y0=0 (bottom), y1=1 (top) of the plot area\n",
    ")\n",
    "\n",
    "fig.add_shape(\n",
    "    type=\"rect\",\n",
    "    x0=\"2020\", x1=\"2023\",\n",
    "    y0=0, y1=1,  # Will be updated below\n",
    "    fillcolor=\"blue\",\n",
    "    opacity=0.2,\n",
    "    layer=\"below\",\n",
    "    line_width=0,\n",
    "    yref=\"paper\"  # This makes y0=0 (bottom), y1=1 (top) of the plot area\n",
    ")\n",
    "\n",
    "\n",
    "fig.add_annotation(\n",
    "    x=\"2008\",\n",
    "    y=1,\n",
    "    text=\"Global Recession\",\n",
    "    showarrow=False,\n",
    "    font=dict(size=12, color=\"red\"),\n",
    "    yref=\"paper\"\n",
    ")\n",
    "\n",
    "fig.add_annotation(\n",
    "    x=\"2021\",\n",
    "    y=1,\n",
    "    text=\"COVID-19 Pandemic\",\n",
    "    showarrow=False,\n",
    "    font=dict(size=12, color=\"blue\"),\n",
    "    yref=\"paper\"\n",
    ")\n",
    "\n",
    "\n",
    "fig.update_layout(\n",
    "  title='Peso Purchasing Power',\n",
    "  xaxis_title='Year',\n",
    "  yaxis_title='Avg Purchasing Power',\n",
    "  legend=dict(\n",
    "      orientation='h',\n",
    "      yanchor='bottom',\n",
    "      y=-0.30,\n",
    "      xanchor='center',\n",
    "      x=0.5\n",
    "  )\n",
    ")\n",
    "\n",
    "# ...existing code...\n",
    "# ...existing code...\n"
   ]
  },
  {
   "cell_type": "code",
   "execution_count": 10,
   "id": "a00ede9a",
   "metadata": {},
   "outputs": [
    {
     "data": {
      "application/vnd.plotly.v1+json": {
       "config": {
        "plotlyServerURL": "https://plot.ly"
       },
       "data": [
        {
         "hovertemplate": "Year: %{x}<br>Purchasing Power: %{y:.2f}<extra></extra>",
         "line": {
          "color": "blue"
         },
         "mode": "lines+markers",
         "name": "Purchasing Power (Index)",
         "type": "scatter",
         "x": {
          "bdata": "ygfLB8wHzQfOB88H0AfRB9IH0wfUB9UH1gfXB9gH2QfaB9sH3AfdB94H3wfgB+EH4gfjB+QH5QfmB+cH6AfpBw==",
          "dtype": "i2"
         },
         "y": {
          "bdata": "mZmZmZkZCEAPdNpAp40GQNMGOm2g0wRAuB6F61G4A0CIiIiIiAgCQHwUrkfh+gBA20CnDXTa/z87baDTBjr+P22g0wY6bf0/w/UoXI/C/D9xPQrXo3D7P7u7u7u7u/k/baDTBjpt+D+5HoXrUbj3P/UoXI/C9fU/DNejcD0K9T9H4XoUrkf0P1uPwvUoXPM/w/UoXI/C8j9I4XoUrkfyP6uqqqqqqvE/kl8s+cWS8T9TuB6F61HxP9tApw102vA/BzptoNMG8D9Dpw102kDvP3kUrkfheu4/VVVVVVVV7T/LL5b8YsnrP0VEREREROo/aQOdNtBp6T9VVVVVVVXyPw==",
          "dtype": "f8"
         },
         "yaxis": "y"
        },
        {
         "hovertemplate": "Year: %{x}<br>Kg Rice per ₱100: %{y:.2f}<extra></extra>",
         "line": {
          "color": "green"
         },
         "mode": "lines+markers",
         "name": "Kg of Rice per ₱100",
         "type": "scatter",
         "x": {
          "bdata": "ygfLB8wHzQfOB88H0AfRB9IH0wfUB9UH1gfXB9gH2QfaB9sH3AfdB94H3wfgB+EH4gfjB+QH5QfmB+cH6AfpBw==",
          "dtype": "i2"
         },
         "y": {
          "bdata": "Img4qfvyMEBZXYa90p8rQNse1ripmShAlgK1fqVAKUDzaw+5rBgoQKwaWsm3aSlA3TGWlcLAJ0DpaQ5y1HooQKsh9hj9rCZA79qf7tqfJkCgUn9K/SklQIc0bqXqLCNAN2rVZNYeI0DTAbykR9MhQLjOzwH+ThxAAORfBFFXG0AvP58tWeYaQGyAQzAqXhpA9Wv+jjGpGEByBYxKb6AXQKot9nok7hNAdqF/INQUF0D0rw6k7fIWQJBhUq5I9xVAnJubm5ubE0CB7XhqXUkYQIHn0+Nm7BdAcA0OA8ndF0D4LhxEj+8WQLk6bsrnHhRAc6cSzjIlEUBlbc4iE4sXQA==",
          "dtype": "f8"
         },
         "yaxis": "y2"
        }
       ],
       "layout": {
        "height": 600,
        "legend": {
         "orientation": "h",
         "x": 0.5,
         "xanchor": "center",
         "y": 1.1
        },
        "template": {
         "data": {
          "bar": [
           {
            "error_x": {
             "color": "#2a3f5f"
            },
            "error_y": {
             "color": "#2a3f5f"
            },
            "marker": {
             "line": {
              "color": "white",
              "width": 0.5
             },
             "pattern": {
              "fillmode": "overlay",
              "size": 10,
              "solidity": 0.2
             }
            },
            "type": "bar"
           }
          ],
          "barpolar": [
           {
            "marker": {
             "line": {
              "color": "white",
              "width": 0.5
             },
             "pattern": {
              "fillmode": "overlay",
              "size": 10,
              "solidity": 0.2
             }
            },
            "type": "barpolar"
           }
          ],
          "carpet": [
           {
            "aaxis": {
             "endlinecolor": "#2a3f5f",
             "gridcolor": "#C8D4E3",
             "linecolor": "#C8D4E3",
             "minorgridcolor": "#C8D4E3",
             "startlinecolor": "#2a3f5f"
            },
            "baxis": {
             "endlinecolor": "#2a3f5f",
             "gridcolor": "#C8D4E3",
             "linecolor": "#C8D4E3",
             "minorgridcolor": "#C8D4E3",
             "startlinecolor": "#2a3f5f"
            },
            "type": "carpet"
           }
          ],
          "choropleth": [
           {
            "colorbar": {
             "outlinewidth": 0,
             "ticks": ""
            },
            "type": "choropleth"
           }
          ],
          "contour": [
           {
            "colorbar": {
             "outlinewidth": 0,
             "ticks": ""
            },
            "colorscale": [
             [
              0,
              "#0d0887"
             ],
             [
              0.1111111111111111,
              "#46039f"
             ],
             [
              0.2222222222222222,
              "#7201a8"
             ],
             [
              0.3333333333333333,
              "#9c179e"
             ],
             [
              0.4444444444444444,
              "#bd3786"
             ],
             [
              0.5555555555555556,
              "#d8576b"
             ],
             [
              0.6666666666666666,
              "#ed7953"
             ],
             [
              0.7777777777777778,
              "#fb9f3a"
             ],
             [
              0.8888888888888888,
              "#fdca26"
             ],
             [
              1,
              "#f0f921"
             ]
            ],
            "type": "contour"
           }
          ],
          "contourcarpet": [
           {
            "colorbar": {
             "outlinewidth": 0,
             "ticks": ""
            },
            "type": "contourcarpet"
           }
          ],
          "heatmap": [
           {
            "colorbar": {
             "outlinewidth": 0,
             "ticks": ""
            },
            "colorscale": [
             [
              0,
              "#0d0887"
             ],
             [
              0.1111111111111111,
              "#46039f"
             ],
             [
              0.2222222222222222,
              "#7201a8"
             ],
             [
              0.3333333333333333,
              "#9c179e"
             ],
             [
              0.4444444444444444,
              "#bd3786"
             ],
             [
              0.5555555555555556,
              "#d8576b"
             ],
             [
              0.6666666666666666,
              "#ed7953"
             ],
             [
              0.7777777777777778,
              "#fb9f3a"
             ],
             [
              0.8888888888888888,
              "#fdca26"
             ],
             [
              1,
              "#f0f921"
             ]
            ],
            "type": "heatmap"
           }
          ],
          "histogram": [
           {
            "marker": {
             "pattern": {
              "fillmode": "overlay",
              "size": 10,
              "solidity": 0.2
             }
            },
            "type": "histogram"
           }
          ],
          "histogram2d": [
           {
            "colorbar": {
             "outlinewidth": 0,
             "ticks": ""
            },
            "colorscale": [
             [
              0,
              "#0d0887"
             ],
             [
              0.1111111111111111,
              "#46039f"
             ],
             [
              0.2222222222222222,
              "#7201a8"
             ],
             [
              0.3333333333333333,
              "#9c179e"
             ],
             [
              0.4444444444444444,
              "#bd3786"
             ],
             [
              0.5555555555555556,
              "#d8576b"
             ],
             [
              0.6666666666666666,
              "#ed7953"
             ],
             [
              0.7777777777777778,
              "#fb9f3a"
             ],
             [
              0.8888888888888888,
              "#fdca26"
             ],
             [
              1,
              "#f0f921"
             ]
            ],
            "type": "histogram2d"
           }
          ],
          "histogram2dcontour": [
           {
            "colorbar": {
             "outlinewidth": 0,
             "ticks": ""
            },
            "colorscale": [
             [
              0,
              "#0d0887"
             ],
             [
              0.1111111111111111,
              "#46039f"
             ],
             [
              0.2222222222222222,
              "#7201a8"
             ],
             [
              0.3333333333333333,
              "#9c179e"
             ],
             [
              0.4444444444444444,
              "#bd3786"
             ],
             [
              0.5555555555555556,
              "#d8576b"
             ],
             [
              0.6666666666666666,
              "#ed7953"
             ],
             [
              0.7777777777777778,
              "#fb9f3a"
             ],
             [
              0.8888888888888888,
              "#fdca26"
             ],
             [
              1,
              "#f0f921"
             ]
            ],
            "type": "histogram2dcontour"
           }
          ],
          "mesh3d": [
           {
            "colorbar": {
             "outlinewidth": 0,
             "ticks": ""
            },
            "type": "mesh3d"
           }
          ],
          "parcoords": [
           {
            "line": {
             "colorbar": {
              "outlinewidth": 0,
              "ticks": ""
             }
            },
            "type": "parcoords"
           }
          ],
          "pie": [
           {
            "automargin": true,
            "type": "pie"
           }
          ],
          "scatter": [
           {
            "fillpattern": {
             "fillmode": "overlay",
             "size": 10,
             "solidity": 0.2
            },
            "type": "scatter"
           }
          ],
          "scatter3d": [
           {
            "line": {
             "colorbar": {
              "outlinewidth": 0,
              "ticks": ""
             }
            },
            "marker": {
             "colorbar": {
              "outlinewidth": 0,
              "ticks": ""
             }
            },
            "type": "scatter3d"
           }
          ],
          "scattercarpet": [
           {
            "marker": {
             "colorbar": {
              "outlinewidth": 0,
              "ticks": ""
             }
            },
            "type": "scattercarpet"
           }
          ],
          "scattergeo": [
           {
            "marker": {
             "colorbar": {
              "outlinewidth": 0,
              "ticks": ""
             }
            },
            "type": "scattergeo"
           }
          ],
          "scattergl": [
           {
            "marker": {
             "colorbar": {
              "outlinewidth": 0,
              "ticks": ""
             }
            },
            "type": "scattergl"
           }
          ],
          "scattermap": [
           {
            "marker": {
             "colorbar": {
              "outlinewidth": 0,
              "ticks": ""
             }
            },
            "type": "scattermap"
           }
          ],
          "scattermapbox": [
           {
            "marker": {
             "colorbar": {
              "outlinewidth": 0,
              "ticks": ""
             }
            },
            "type": "scattermapbox"
           }
          ],
          "scatterpolar": [
           {
            "marker": {
             "colorbar": {
              "outlinewidth": 0,
              "ticks": ""
             }
            },
            "type": "scatterpolar"
           }
          ],
          "scatterpolargl": [
           {
            "marker": {
             "colorbar": {
              "outlinewidth": 0,
              "ticks": ""
             }
            },
            "type": "scatterpolargl"
           }
          ],
          "scatterternary": [
           {
            "marker": {
             "colorbar": {
              "outlinewidth": 0,
              "ticks": ""
             }
            },
            "type": "scatterternary"
           }
          ],
          "surface": [
           {
            "colorbar": {
             "outlinewidth": 0,
             "ticks": ""
            },
            "colorscale": [
             [
              0,
              "#0d0887"
             ],
             [
              0.1111111111111111,
              "#46039f"
             ],
             [
              0.2222222222222222,
              "#7201a8"
             ],
             [
              0.3333333333333333,
              "#9c179e"
             ],
             [
              0.4444444444444444,
              "#bd3786"
             ],
             [
              0.5555555555555556,
              "#d8576b"
             ],
             [
              0.6666666666666666,
              "#ed7953"
             ],
             [
              0.7777777777777778,
              "#fb9f3a"
             ],
             [
              0.8888888888888888,
              "#fdca26"
             ],
             [
              1,
              "#f0f921"
             ]
            ],
            "type": "surface"
           }
          ],
          "table": [
           {
            "cells": {
             "fill": {
              "color": "#EBF0F8"
             },
             "line": {
              "color": "white"
             }
            },
            "header": {
             "fill": {
              "color": "#C8D4E3"
             },
             "line": {
              "color": "white"
             }
            },
            "type": "table"
           }
          ]
         },
         "layout": {
          "annotationdefaults": {
           "arrowcolor": "#2a3f5f",
           "arrowhead": 0,
           "arrowwidth": 1
          },
          "autotypenumbers": "strict",
          "coloraxis": {
           "colorbar": {
            "outlinewidth": 0,
            "ticks": ""
           }
          },
          "colorscale": {
           "diverging": [
            [
             0,
             "#8e0152"
            ],
            [
             0.1,
             "#c51b7d"
            ],
            [
             0.2,
             "#de77ae"
            ],
            [
             0.3,
             "#f1b6da"
            ],
            [
             0.4,
             "#fde0ef"
            ],
            [
             0.5,
             "#f7f7f7"
            ],
            [
             0.6,
             "#e6f5d0"
            ],
            [
             0.7,
             "#b8e186"
            ],
            [
             0.8,
             "#7fbc41"
            ],
            [
             0.9,
             "#4d9221"
            ],
            [
             1,
             "#276419"
            ]
           ],
           "sequential": [
            [
             0,
             "#0d0887"
            ],
            [
             0.1111111111111111,
             "#46039f"
            ],
            [
             0.2222222222222222,
             "#7201a8"
            ],
            [
             0.3333333333333333,
             "#9c179e"
            ],
            [
             0.4444444444444444,
             "#bd3786"
            ],
            [
             0.5555555555555556,
             "#d8576b"
            ],
            [
             0.6666666666666666,
             "#ed7953"
            ],
            [
             0.7777777777777778,
             "#fb9f3a"
            ],
            [
             0.8888888888888888,
             "#fdca26"
            ],
            [
             1,
             "#f0f921"
            ]
           ],
           "sequentialminus": [
            [
             0,
             "#0d0887"
            ],
            [
             0.1111111111111111,
             "#46039f"
            ],
            [
             0.2222222222222222,
             "#7201a8"
            ],
            [
             0.3333333333333333,
             "#9c179e"
            ],
            [
             0.4444444444444444,
             "#bd3786"
            ],
            [
             0.5555555555555556,
             "#d8576b"
            ],
            [
             0.6666666666666666,
             "#ed7953"
            ],
            [
             0.7777777777777778,
             "#fb9f3a"
            ],
            [
             0.8888888888888888,
             "#fdca26"
            ],
            [
             1,
             "#f0f921"
            ]
           ]
          },
          "colorway": [
           "#636efa",
           "#EF553B",
           "#00cc96",
           "#ab63fa",
           "#FFA15A",
           "#19d3f3",
           "#FF6692",
           "#B6E880",
           "#FF97FF",
           "#FECB52"
          ],
          "font": {
           "color": "#2a3f5f"
          },
          "geo": {
           "bgcolor": "white",
           "lakecolor": "white",
           "landcolor": "white",
           "showlakes": true,
           "showland": true,
           "subunitcolor": "#C8D4E3"
          },
          "hoverlabel": {
           "align": "left"
          },
          "hovermode": "closest",
          "mapbox": {
           "style": "light"
          },
          "paper_bgcolor": "white",
          "plot_bgcolor": "white",
          "polar": {
           "angularaxis": {
            "gridcolor": "#EBF0F8",
            "linecolor": "#EBF0F8",
            "ticks": ""
           },
           "bgcolor": "white",
           "radialaxis": {
            "gridcolor": "#EBF0F8",
            "linecolor": "#EBF0F8",
            "ticks": ""
           }
          },
          "scene": {
           "xaxis": {
            "backgroundcolor": "white",
            "gridcolor": "#DFE8F3",
            "gridwidth": 2,
            "linecolor": "#EBF0F8",
            "showbackground": true,
            "ticks": "",
            "zerolinecolor": "#EBF0F8"
           },
           "yaxis": {
            "backgroundcolor": "white",
            "gridcolor": "#DFE8F3",
            "gridwidth": 2,
            "linecolor": "#EBF0F8",
            "showbackground": true,
            "ticks": "",
            "zerolinecolor": "#EBF0F8"
           },
           "zaxis": {
            "backgroundcolor": "white",
            "gridcolor": "#DFE8F3",
            "gridwidth": 2,
            "linecolor": "#EBF0F8",
            "showbackground": true,
            "ticks": "",
            "zerolinecolor": "#EBF0F8"
           }
          },
          "shapedefaults": {
           "line": {
            "color": "#2a3f5f"
           }
          },
          "ternary": {
           "aaxis": {
            "gridcolor": "#DFE8F3",
            "linecolor": "#A2B1C6",
            "ticks": ""
           },
           "baxis": {
            "gridcolor": "#DFE8F3",
            "linecolor": "#A2B1C6",
            "ticks": ""
           },
           "bgcolor": "white",
           "caxis": {
            "gridcolor": "#DFE8F3",
            "linecolor": "#A2B1C6",
            "ticks": ""
           }
          },
          "title": {
           "x": 0.05
          },
          "xaxis": {
           "automargin": true,
           "gridcolor": "#EBF0F8",
           "linecolor": "#EBF0F8",
           "ticks": "",
           "title": {
            "standoff": 15
           },
           "zerolinecolor": "#EBF0F8",
           "zerolinewidth": 2
          },
          "yaxis": {
           "automargin": true,
           "gridcolor": "#EBF0F8",
           "linecolor": "#EBF0F8",
           "ticks": "",
           "title": {
            "standoff": 15
           },
           "zerolinecolor": "#EBF0F8",
           "zerolinewidth": 2
          }
         }
        },
        "title": {
         "text": "Peso Purchasing Power vs Rice Affordability (Kg per ₱100)"
        },
        "xaxis": {
         "title": {
          "text": "Year"
         }
        },
        "yaxis": {
         "tickfont": {
          "color": "blue"
         },
         "title": {
          "font": {
           "color": "blue"
          },
          "text": "Purchasing Power (Index)"
         }
        },
        "yaxis2": {
         "overlaying": "y",
         "side": "right",
         "tickfont": {
          "color": "green"
         },
         "title": {
          "font": {
           "color": "green"
          },
          "text": "Kg of Rice per ₱100"
         }
        }
       }
      }
     },
     "metadata": {},
     "output_type": "display_data"
    }
   ],
   "source": [
    "import pandas as pd\n",
    "import plotly.graph_objects as go\n",
    "\n",
    "# Load your CSV\n",
    "df = pd.read_csv(\"merged_output_w_price.csv\")\n",
    "\n",
    "# Compute average purchasing power\n",
    "df['Avg Purchasing Power'] = df[['Jan','Feb','Mar','Apr','May','Jun',\n",
    "                                 'Jul','Aug','Sep','Oct','Nov','Dec']].mean(axis=1)\n",
    "\n",
    "# Compute how many kg of rice ₱100 can buy\n",
    "df['Kg Rice per 100PHP'] = 100 / df['Rice Price']\n",
    "\n",
    "# Create interactive figure with two y-axes\n",
    "fig = go.Figure()\n",
    "\n",
    "# Add Avg Purchasing Power trace\n",
    "fig.add_trace(go.Scatter(\n",
    "    x=df['Year'], y=df['Avg Purchasing Power'],\n",
    "    mode='lines+markers', name='Purchasing Power (Index)', yaxis='y1', line=dict(color='blue'),\n",
    "    hovertemplate='Year: %{x}<br>Purchasing Power: %{y:.2f}<extra></extra>'\n",
    "))\n",
    "\n",
    "# Add Kg Rice per 100PHP trace\n",
    "fig.add_trace(go.Scatter(\n",
    "    x=df['Year'], y=df['Kg Rice per 100PHP'],\n",
    "    mode='lines+markers', name='Kg of Rice per ₱100', yaxis='y2', line=dict(color='green'),\n",
    "    hovertemplate='Year: %{x}<br>Kg Rice per ₱100: %{y:.2f}<extra></extra>'\n",
    "))\n",
    "\n",
    "# Update layout for dual y-axes\n",
    "fig.update_layout(\n",
    "    title='Peso Purchasing Power vs Rice Affordability (Kg per ₱100)',\n",
    "    xaxis_title='Year',\n",
    "    yaxis=dict(\n",
    "        title=dict(text='Purchasing Power (Index)', font=dict(color='blue')),\n",
    "        tickfont=dict(color='blue')\n",
    "    ),\n",
    "    yaxis2=dict(\n",
    "        title=dict(text='Kg of Rice per ₱100', font=dict(color='green')),\n",
    "        tickfont=dict(color='green'),\n",
    "        overlaying='y', side='right'\n",
    "    ),\n",
    "    legend=dict(x=0.5, y=1.1, orientation='h', xanchor='center'),\n",
    "    template='plotly_white',\n",
    "    height=600\n",
    ")\n",
    "\n",
    "fig.show()"
   ]
  },
  {
   "cell_type": "code",
   "execution_count": 12,
   "id": "baa14717",
   "metadata": {},
   "outputs": [
    {
     "data": {
      "image/png": "[encoded data removed]",
      "text/plain": [
       "<Figure size 1200x600 with 1 Axes>"
      ]
     },
     "metadata": {
      "image/png": {
       "height": 505,
       "width": 990
      }
     },
     "output_type": "display_data"
    }
   ],
   "source": [
    "import matplotlib.pyplot as plt\n",
    "\n",
    "# Calculate average purchasing power for each year\n",
    "df['Avg'] = df[['Jan','Feb','Mar','Apr','May','Jun',\n",
    "                'Jul','Aug','Sep','Oct','Nov','Dec']].mean(axis=1)\n",
    "\n",
    "years = df['Year']\n",
    "values = df['Avg']\n",
    "\n",
    "plt.figure(figsize=(12,6))\n",
    "plt.plot(years, values, color=\"#005BAC\", linewidth=3)\n",
    "\n",
    "# Ensure y-axis shows decimals and includes values below 1\n",
    "plt.ylim(bottom=min(values) - 0.5)  # Optional: add a small margin below min value\n",
    "plt.gca().yaxis.set_major_formatter(plt.FuncFormatter(lambda x, _: f'{x:.2f}'))\n",
    "\n",
    "# Style\n",
    "# Style\n",
    "# Style\n",
    "plt.grid(True, axis='y', linestyle=\"-\", alpha=0.5)\n",
    "\n",
    "# Remove plot box (spines)\n",
    "for spine in plt.gca().spines.values():\n",
    "    spine.set_visible(False)\n",
    "\n",
    "plt.gca().set_facecolor(\"#F4EBD0\")  # Set axes background\n",
    "plt.gcf().set_facecolor(\"#F4EBD0\")  # Set figure background\n",
    "\n",
    "plt.savefig(\"chart.svg\", dpi=300)  # SVG for design work\n",
    "plt.show()"
   ]
  },
  {
   "cell_type": "code",
   "execution_count": 13,
   "id": "bc0155ab",
   "metadata": {},
   "outputs": [
    {
     "name": "stdout",
     "output_type": "stream",
     "text": [
      "    Year  Rice Price\n",
      "0   1994        5.90\n",
      "1   1995        7.24\n",
      "2   1996        8.13\n",
      "3   1997        7.92\n",
      "4   1998        8.30\n",
      "5   1999        7.87\n",
      "6   2000        8.42\n",
      "7   2001        8.17\n",
      "8   2002        8.82\n",
      "9   2003        8.84\n",
      "10  2004        9.45\n",
      "11  2005       10.43\n",
      "12  2006       10.46\n",
      "13  2007       11.22\n",
      "14  2008       14.13\n",
      "15  2009       14.63\n",
      "16  2010       14.87\n",
      "17  2011       15.17\n",
      "18  2012       16.22\n",
      "19  2013       16.93\n",
      "20  2014       20.07\n",
      "21  2015       17.33\n",
      "22  2016       17.43\n",
      "23  2017       18.21\n",
      "24  2018       20.40\n",
      "25  2019       16.47\n",
      "26  2020       16.72\n",
      "27  2021       16.76\n",
      "28  2022       17.44\n",
      "29  2023       19.88\n",
      "30  2024       23.33\n",
      "31  2025       16.99\n"
     ]
    }
   ],
   "source": [
    "# Display rice price per year from 1994 to 2025\n",
    "\n",
    "df = pd.read_csv('merged_output_w_price.csv')\n",
    "rice_prices = df[(df['Year'] >= 1994) & (df['Year'] <= 2025)][['Year', 'Rice Price']]\n",
    "print(rice_prices)"
   ]
  }
 ],
 "metadata": {
  "kernelspec": {
   "display_name": "base",
   "language": "python",
   "name": "python3"
  },
  "language_info": {
   "codemirror_mode": {
    "name": "ipython",
    "version": 3
   },
   "file_extension": ".py",
   "mimetype": "text/x-python",
   "name": "python",
   "nbconvert_exporter": "python",
   "pygments_lexer": "ipython3",
   "version": "3.12.7"
  }
 },
 "nbformat": 4,
 "nbformat_minor": 5
}
